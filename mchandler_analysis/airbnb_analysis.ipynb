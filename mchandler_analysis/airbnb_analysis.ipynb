{
 "cells": [
  {
   "cell_type": "markdown",
   "metadata": {},
   "source": [
    "Data Loading and Initial Cleaning:\n",
    "\n",
    "The AB_NYC_2019.csv dataset (48,895 listings) was successfully loaded.\n",
    "Missing Values: Key missing values were identified and addressed:\n",
    "reviews_per_month and last_review NaNs (10,052 each) were found to directly correspond to listings with zero number_of_reviews. reviews_per_month was imputed with 0. last_review NaNs were noted as expected for listings with no review history.\n",
    "Minor missing values for name (16) and host_name (21) were imputed with \"Unknown.\"\n",
    "Key Feature Exploration (Informing \"Similarity\" and \"Neighborhood Profiles\"):\n",
    "\n",
    "Price:\n",
    "Highly right-skewed (median $106, mean $153, max $10,000). A log transformation (log_price) was useful for clearer visualization.\n",
    "Strongly driven by room_type ('Entire home/apt' median $160 vs. 'Private room' $70) and neighbourhood_group (Manhattan median $150 vs. Bronx $65).\n",
    "Significant price variation exists within neighbourhood_groups at the neighbourhood level (e.g., Midtown's median $210 vs. Harlem's $89 within Manhattan).\n",
    "Showed weak linear correlation with number_of_reviews and availability_365.\n",
    "Room Type:\n",
    "The market is dominated by 'Entire home/apt' (~52%) and 'Private room' (~46%), with 'Shared room' being a small niche (~2.4%).\n",
    "The mix of room_types varies significantly by neighbourhood_group (e.g., Manhattan favors 'Entire home/apt'; Queens/Bronx favor 'Private room') and also by specific neighbourhoods within them.\n",
    "Minimum Nights:\n",
    "Highly right-skewed (median 3 nights, mean ~7, max 1250). The majority of listings (75%) require 5 nights or less, indicating a focus on short stays.\n",
    "Median minimum_nights are short (2-3 days) across all neighbourhood_groups, but Manhattan and Brooklyn have higher means due to more listings with very long minimum stay requirements.\n",
    "Host Profile (calculated_host_listings_count):\n",
    "Dominated by single-listing hosts (~66% of listings) and small-scale hosts (~80% from hosts with 1-2 listings).\n",
    "A \"long tail\" of professional hosts/multi-property managers exists (max 327 listings by one host).\n",
    "Host types vary by room_type (e.g., 'Entire home/apt' have both many single hosts and the most listings from very large operators; 'Shared rooms' are more common with mid-size operators). Price ranges appeared more standardized for larger hosts.\n",
    "Understanding \"Busyness\" and Demand Indicators:\n",
    "\n",
    "Availability (availability_365): A large proportion of listings show very low availability (over 35% have 0 days, median 45 days). 'Brooklyn' and 'Manhattan' have the lowest median availability at the neighbourhood_group level.\n",
    "Review Activity (reviews_per_month): Most listings have low review rates (median 0.37 after imputing zeros). Surprisingly, outer neighbourhood_groups like 'Staten Island', 'Queens', and 'Bronx' showed higher average reviews per month per listing than 'Manhattan' and 'Brooklyn'. Specific neighbourhoods, often in these outer groups, had listings with very high average activity.\n",
    "Listing Density: 'Manhattan' and 'Brooklyn' neighbourhood_groups, and specific neighbourhoods within them (like Williamsburg, Bedford-Stuyvesant, Harlem), overwhelmingly have the highest concentration of listings.\n",
    "Complexity of \"Busyness\": Neighborhood-level aggregated metrics for availability (inverse), review activity, and density showed weak and sometimes counterintuitive (negative) linear correlations. This indicates \"busyness\" is multi-faceted and these indicators capture different, largely independent aspects.\n",
    "Geographical Variation Summary (neighbourhood_group and neighbourhood levels):\n",
    "\n",
    "Distinct neighbourhood_group Profiles: Each neighbourhood_group exhibits a unique combination of typical price points, availability patterns, dominant room types, and review activity metrics.\n",
    "Significant Intra-neighbourhood_group Heterogeneity: Crucially, substantial variation exists for all key metrics (price, room type mix, availability) among neighbourhoods within the same neighbourhood_group. No neighbourhood_group is internally homogenous.\n",
    "Overall Conclusion of EDA for Project Goals:\n",
    "\n",
    "The EDA has provided a deep and nuanced understanding of the dataset's structure, distributions, and interrelationships relevant to the project.\n",
    "It confirms that \"busyness\" is not a monolithic concept and will require a clear, potentially multi-faceted definition based on chosen indicators (e.g., focusing on low availability, high density, or high activity, or a combination).\n",
    "The analysis strongly supports the need to build rich, granular profiles for individual neighbourhoods to assess their \"characteristic similarity.\" These profiles should incorporate aggregated data on price distributions, room type compositions, typical minimum stay requirements, and potentially host profiles.\n",
    "Relying solely on neighbourhood_group averages would be insufficient for finding genuinely \"similar\" alternative neighborhoods."
   ]
  },
  {
   "cell_type": "markdown",
   "metadata": {},
   "source": [
    "1. Missing Values: Identify and handle missing values, especially in key columns like reviews_per_month (which might be legitimately null or 0 if number_of_reviews is 0) and last_review.\n",
    "Han, J., Pei, J. and Tong, H. (2022, Chapter 3: Data Preprocessing) provide comprehensive techniques for handling missing data.\n"
   ]
  },
  {
   "cell_type": "markdown",
   "metadata": {},
   "source": [
    "1.1 Load Data"
   ]
  },
  {
   "cell_type": "code",
   "execution_count": null,
   "metadata": {},
   "outputs": [],
   "source": [
    "import pandas as pd\n",
    "import numpy as np\n",
    "df = pd.read_csv(\"..\\\\data\\\\AB_NYC_2019.csv\")\n",
    "print(\"Dataset loaded. Shape:\", df.shape)\n",
    "df.head()"
   ]
  },
  {
   "cell_type": "markdown",
   "metadata": {},
   "source": [
    "1.2 Overall Missing Value Summary"
   ]
  },
  {
   "cell_type": "code",
   "execution_count": null,
   "metadata": {},
   "outputs": [],
   "source": [
    "print(\"--- Overall Missing Value Counts ---\")\n",
    "missing_values_summary = df.isnull().sum()\n",
    "print(missing_values_summary[missing_values_summary > 0])"
   ]
  },
  {
   "cell_type": "markdown",
   "metadata": {},
   "source": [
    "1.3 Analyze Missing reviews_per_month"
   ]
  },
  {
   "cell_type": "code",
   "execution_count": null,
   "metadata": {},
   "outputs": [],
   "source": [
    "print(\"--- Analyzing Missing 'reviews_per_month' ---\")\n",
    "if 'reviews_per_month' in df.columns and 'number_of_reviews' in df.columns:\n",
    "    total_nan_rpm = df['reviews_per_month'].isnull().sum()\n",
    "    print(f\"Total NaN values in 'reviews_per_month': {total_nan_rpm}\")\n",
    "\n",
    "    listings_with_zero_reviews = df[df['number_of_reviews'] == 0]\n",
    "    print(f\"Number of listings with 0 reviews: {len(listings_with_zero_reviews)}\")\n",
    "\n",
    "    nan_rpm_when_zero_reviews = 0\n",
    "    if not listings_with_zero_reviews.empty:\n",
    "        nan_rpm_when_zero_reviews = listings_with_zero_reviews['reviews_per_month'].isnull().sum()\n",
    "    print(f\"NaN in 'reviews_per_month' when 'number_of_reviews' is 0: {nan_rpm_when_zero_reviews}\")\n",
    "\n",
    "    if total_nan_rpm > 0 and total_nan_rpm == nan_rpm_when_zero_reviews and len(listings_with_zero_reviews) == total_nan_rpm:\n",
    "        print(\"\\nObservation: All NaN values in 'reviews_per_month' occur where 'number_of_reviews' is 0.\")\n",
    "        print(\"Interpretation: This is expected. If there are no reviews, 'reviews_per_month' cannot be calculated and is thus NaN.\")\n",
    "        print(\"Proposed Strategy for next step: Impute these NaNs with 0.\")\n",
    "    else:\n",
    "        nan_rpm_with_reviews = df[(df['reviews_per_month'].isnull()) & (df['number_of_reviews'] > 0)]\n",
    "        count_nan_rpm_with_reviews = len(nan_rpm_with_reviews)\n",
    "        print(f\"\\nNumber of listings with 'reviews_per_month' = NaN BUT 'number_of_reviews' > 0: {count_nan_rpm_with_reviews}\")\n",
    "        if count_nan_rpm_with_reviews > 0:\n",
    "            print(\"Observation: There are unexpected NaNs in 'reviews_per_month' for listings that DO have reviews. These need further investigation or a specific imputation strategy for them.\")\n",
    "        elif total_nan_rpm > 0 :\n",
    "             print(\"\\nObservation: 'reviews_per_month' has NaN values. The primary cause appears to be listings with 0 reviews.\")\n",
    "             print(\"Proposed Strategy for next step: For NaNs corresponding to 0 reviews, impute with 0. Investigate any other NaNs if present.\")\n",
    "        elif total_nan_rpm == 0:\n",
    "            print(\"\\nNo NaN values found in 'reviews_per_month'.\")\n",
    "        else:\n",
    "            print(\"\\nMixed observations about NaNs in 'reviews_per_month'. Review distribution carefully.\")\n",
    "else:\n",
    "    print(\"Error: 'reviews_per_month' or 'number_of_reviews' column not found in DataFrame.\")"
   ]
  },
  {
   "cell_type": "markdown",
   "metadata": {},
   "source": [
    "1.4 Analyze Missing last_review"
   ]
  },
  {
   "cell_type": "code",
   "execution_count": null,
   "metadata": {},
   "outputs": [],
   "source": [
    "print(\"\\n--- Analyzing Missing 'last_review' ---\")\n",
    "if 'last_review' in df.columns and 'number_of_reviews' in df.columns:\n",
    "    total_nan_last_review = df['last_review'].isnull().sum()\n",
    "    print(f\"Total NaN values in 'last_review': {total_nan_last_review}\")\n",
    "\n",
    "    # Assuming 'listings_with_zero_reviews' is still relevant from the previous cell's scope\n",
    "    # or re-calculate if running cells out of strict order:\n",
    "    # listings_with_zero_reviews = df[df['number_of_reviews'] == 0]\n",
    "    # print(f\"Number of listings with 0 reviews: {len(listings_with_zero_reviews)}\")\n",
    "\n",
    "\n",
    "    nan_last_review_when_zero_reviews = 0\n",
    "    # Re-filter to ensure 'listings_with_zero_reviews' is defined in this cell's scope if run independently\n",
    "    listings_with_zero_reviews_for_last_review_check = df[df['number_of_reviews'] == 0]\n",
    "    if not listings_with_zero_reviews_for_last_review_check.empty:\n",
    "        nan_last_review_when_zero_reviews = listings_with_zero_reviews_for_last_review_check['last_review'].isnull().sum()\n",
    "    print(f\"NaN in 'last_review' when 'number_of_reviews' is 0: {nan_last_review_when_zero_reviews}\")\n",
    "\n",
    "    if total_nan_last_review > 0 and total_nan_last_review == nan_last_review_when_zero_reviews and len(listings_with_zero_reviews_for_last_review_check) == total_nan_last_review:\n",
    "        print(\"\\nObservation: All NaN values in 'last_review' occur where 'number_of_reviews' is 0.\")\n",
    "        print(\"Interpretation: This is expected. If there are no reviews, there is no 'last_review' date.\")\n",
    "        print(\"Proposed Strategy: These NaNs are informative. No direct imputation of the date is usually needed for these expected NaNs. If creating a 'days_since_last_review' feature, these would become NaN or a special large value.\")\n",
    "    else:\n",
    "        nan_last_review_with_reviews = df[(df['last_review'].isnull()) & (df['number_of_reviews'] > 0)]\n",
    "        count_nan_last_review_with_reviews = len(nan_last_review_with_reviews)\n",
    "        print(f\"\\nNumber of listings with 'last_review' = NaN BUT 'number_of_reviews' > 0: {count_nan_last_review_with_reviews}\")\n",
    "        if count_nan_last_review_with_reviews > 0:\n",
    "            print(\"Observation: There are unexpected NaNs in 'last_review' for listings that DO have reviews. These require investigation.\")\n",
    "        elif total_nan_last_review > 0:\n",
    "            print(\"\\nObservation: 'last_review' has NaN values. The primary cause appears to be listings with 0 reviews.\")\n",
    "        elif total_nan_last_review == 0:\n",
    "            print(\"\\nNo NaN values found in 'last_review'.\")\n",
    "        else:\n",
    "            print(\"\\nMixed observations about NaNs in 'last_review'. Review distribution carefully.\")\n",
    "else:\n",
    "    print(\"Error: 'last_review' or 'number_of_reviews' column not found in DataFrame.\")"
   ]
  },
  {
   "cell_type": "markdown",
   "metadata": {},
   "source": [
    "1.5 Analyze Other Minor Missing Values (name, host_name)"
   ]
  },
  {
   "cell_type": "code",
   "execution_count": null,
   "metadata": {},
   "outputs": [],
   "source": [
    "print(\"\\n--- Analyzing Other Minor Missing Values ('name', 'host_name') ---\")\n",
    "minor_missing_cols_info = []\n",
    "\n",
    "if 'name' in df.columns:\n",
    "    missing_name_count = df['name'].isnull().sum()\n",
    "    if missing_name_count > 0:\n",
    "        print(f\"Missing values in 'name': {missing_name_count} ({(missing_name_count/len(df)*100):.2f}%)\")\n",
    "        minor_missing_cols_info.append(\"'name'\")\n",
    "    else:\n",
    "        print(\"No missing values in 'name'.\")\n",
    "else:\n",
    "    print(\"Column 'name' not found.\")\n",
    "\n",
    "if 'host_name' in df.columns:\n",
    "    missing_host_name_count = df['host_name'].isnull().sum()\n",
    "    if missing_host_name_count > 0:\n",
    "        print(f\"Missing values in 'host_name': {missing_host_name_count} ({(missing_host_name_count/len(df)*100):.2f}%)\")\n",
    "        minor_missing_cols_info.append(\"'host_name'\")\n",
    "    else:\n",
    "        print(\"No missing values in 'host_name'.\")\n",
    "else:\n",
    "    print(\"Column 'host_name' not found.\")\n",
    "\n",
    "if minor_missing_cols_info:\n",
    "    print(f\"\\nObservation: Columns {', '.join(minor_missing_cols_info)} have a very small number of missing values.\")\n",
    "    print(\"Proposed Strategy for next steps: Impute with a placeholder like 'Unknown' or 'Not Specified'.\")"
   ]
  },
  {
   "cell_type": "markdown",
   "metadata": {},
   "source": [
    " 1.6 Impute Missing reviews_per_month"
   ]
  },
  {
   "cell_type": "code",
   "execution_count": null,
   "metadata": {},
   "outputs": [],
   "source": [
    "print(\"\\n--- Imputing 'reviews_per_month' ---\")\n",
    "if 'reviews_per_month' in df.columns:\n",
    "    print(f\"Missing 'reviews_per_month' before imputation: {df['reviews_per_month'].isnull().sum()}\")\n",
    "    df['reviews_per_month'] = df['reviews_per_month'].fillna(0) # Recommended change\n",
    "    print(f\"Missing 'reviews_per_month' after imputation with 0: {df['reviews_per_month'].isnull().sum()}\")\n",
    "    print(\"\\nSample of 'number_of_reviews' and 'reviews_per_month' after imputation:\")\n",
    "    # Ensure listings_with_zero_reviews is defined or filter again if needed for this check\n",
    "    listings_with_zero_reviews = df[df['number_of_reviews'] == 0]\n",
    "    print(listings_with_zero_reviews[['number_of_reviews', 'reviews_per_month']].head())\n",
    "else:\n",
    "    print(\"Error: 'reviews_per_month' column not found for imputation.\")"
   ]
  },
  {
   "cell_type": "markdown",
   "metadata": {},
   "source": [
    "1.7 Impute Missing name"
   ]
  },
  {
   "cell_type": "code",
   "execution_count": null,
   "metadata": {},
   "outputs": [],
   "source": [
    "print(\"\\n--- Imputing 'name' ---\")\n",
    "if 'name' in df.columns:\n",
    "    print(f\"Missing 'name' before imputation: {df['name'].isnull().sum()}\")\n",
    "    df['name'] = df['name'].fillna('Unknown') # Recommended change\n",
    "    print(f\"Missing 'name' after imputation with 'Unknown': {df['name'].isnull().sum()}\")\n",
    "else:\n",
    "    print(\"Error: 'name' column not found for imputation.\")"
   ]
  },
  {
   "cell_type": "markdown",
   "metadata": {},
   "source": [
    "1.8 Impute Missing host_name"
   ]
  },
  {
   "cell_type": "code",
   "execution_count": null,
   "metadata": {},
   "outputs": [],
   "source": [
    "print(\"\\n--- Imputing 'host_name' ---\")\n",
    "if 'host_name' in df.columns:\n",
    "    print(f\"Missing 'host_name' before imputation: {df['host_name'].isnull().sum()}\")\n",
    "    df['host_name'] = df['host_name'].fillna('Unknown') # Recommended change\n",
    "    print(f\"Missing 'host_name' after imputation with 'Unknown': {df['host_name'].isnull().sum()}\")\n",
    "else:\n",
    "    print(\"Error: 'host_name' column not found for imputation.\")"
   ]
  },
  {
   "cell_type": "markdown",
   "metadata": {},
   "source": [
    "1.9 Final Check of Missing Values"
   ]
  },
  {
   "cell_type": "code",
   "execution_count": null,
   "metadata": {},
   "outputs": [],
   "source": [
    "print(\"\\n--- Final Check of Missing Values After Imputations ---\")\n",
    "if not df.empty:\n",
    "    final_missing_summary = df.isnull().sum()\n",
    "    missing_after_imputation = final_missing_summary[final_missing_summary > 0]\n",
    "    if missing_after_imputation.empty:\n",
    "        print(\"No more missing values in 'name', 'host_name', 'reviews_per_month'.\")\n",
    "    else:\n",
    "        print(\"Remaining missing values:\")\n",
    "        print(missing_after_imputation)\n",
    "        if 'last_review' in missing_after_imputation.index:\n",
    "            print(\"Note: 'last_review' will still show NaNs if listings had 0 reviews, which is expected and typically not imputed with a date.\")\n",
    "else:\n",
    "    print(\"DataFrame 'df' is not loaded. Cannot perform final check.\")"
   ]
  },
  {
   "cell_type": "markdown",
   "metadata": {},
   "source": [
    "2. Understanding \"Busyness\" and Demand Indicators (at neighbourhood and neighbourhood_group levels)"
   ]
  },
  {
   "cell_type": "markdown",
   "metadata": {},
   "source": [
    "2.1 Setup for Visualizations"
   ]
  },
  {
   "cell_type": "code",
   "execution_count": 10,
   "metadata": {},
   "outputs": [],
   "source": [
    "import matplotlib.pyplot as plt\n",
    "import seaborn as sns\n",
    "\n",
    "plt.style.use('ggplot')\n",
    "sns.set_palette(\"viridis\")"
   ]
  },
  {
   "cell_type": "markdown",
   "metadata": {},
   "source": [
    "2.2 Availability Analysis - Overall Distribution of availability_365"
   ]
  },
  {
   "cell_type": "code",
   "execution_count": null,
   "metadata": {},
   "outputs": [],
   "source": [
    "print(\"--- Availability Analysis: Overall Distribution of availability_365 ---\")\n",
    "\n",
    "plt.figure(figsize=(12, 5))\n",
    "\n",
    "plt.subplot(1, 2, 1)\n",
    "sns.histplot(df['availability_365'], bins=30, kde=False)\n",
    "plt.title('Histogram of Overall availability_365')\n",
    "plt.xlabel('Availability (days out of 365)')\n",
    "plt.ylabel('Number of Listings')\n",
    "\n",
    "plt.subplot(1, 2, 2)\n",
    "sns.boxplot(y=df['availability_365'])\n",
    "plt.title('Box Plot of Overall availability_365')\n",
    "plt.ylabel('Availability (days out of 365)')\n",
    "\n",
    "plt.tight_layout()\n",
    "plt.show()\n",
    "\n",
    "print(\"\\nDescription of availability_365:\")\n",
    "print(df['availability_365'].describe())\n",
    "# Listings with 0 availability might be interesting to investigate separately\n",
    "print(f\"\\nNumber of listings with 0 availability: {len(df[df['availability_365'] == 0])}\")"
   ]
  },
  {
   "cell_type": "markdown",
   "metadata": {},
   "source": [
    "2.3 Availability Analysis - Per neighbourhood_group and neighbourhood"
   ]
  },
  {
   "cell_type": "code",
   "execution_count": null,
   "metadata": {},
   "outputs": [],
   "source": [
    "print(\"\\n--- Availability Analysis: Per neighbourhood_group and neighbourhood ---\")\n",
    "\n",
    "# Average availability per neighbourhood_group\n",
    "avg_availability_group = df.groupby('neighbourhood_group')['availability_365'].mean().sort_values(ascending=True)\n",
    "print(\"\\nAverage availability_365 per neighbourhood_group (Sorted by least available):\")\n",
    "print(avg_availability_group)\n",
    "\n",
    "plt.figure(figsize=(10, 6))\n",
    "avg_availability_group.plot(kind='bar')\n",
    "plt.title('Average availability_365 by Neighbourhood Group')\n",
    "plt.ylabel('Average Availability (days)')\n",
    "plt.xlabel('Neighbourhood Group')\n",
    "plt.xticks(rotation=45)\n",
    "plt.show()\n",
    "\n",
    "# Box plot of availability_365 by neighbourhood_group\n",
    "plt.figure(figsize=(10, 6))\n",
    "sns.boxplot(x='neighbourhood_group', y='availability_365', data=df)\n",
    "plt.title('Distribution of availability_365 by Neighbourhood Group')\n",
    "plt.ylabel('Availability (days)')\n",
    "plt.xlabel('Neighbourhood Group')\n",
    "plt.xticks(rotation=45)\n",
    "plt.show()\n",
    "\n",
    "# Top 10 neighbourhoods with lowest average availability (potentially \"busiest\" by this metric)\n",
    "avg_availability_neighbourhood = df.groupby('neighbourhood')['availability_365'].mean().sort_values(ascending=True)\n",
    "print(\"\\nTop 10 Neighbourhoods with Lowest Average availability_365:\")\n",
    "print(avg_availability_neighbourhood.head(10))\n",
    "\n",
    "# Top 10 neighbourhoods with highest average availability\n",
    "print(\"\\nTop 10 Neighbourhoods with Highest Average availability_365:\")\n",
    "print(avg_availability_neighbourhood.tail(10))"
   ]
  },
  {
   "cell_type": "markdown",
   "metadata": {},
   "source": [
    "2.4 Overall Distribution (number_of_reviews, reviews_per_month)"
   ]
  },
  {
   "cell_type": "code",
   "execution_count": null,
   "metadata": {},
   "outputs": [],
   "source": [
    "print(\"\\n--- Review Metrics: Overall Distribution ---\")\n",
    "\n",
    "plt.figure(figsize=(14, 6))\n",
    "\n",
    "plt.subplot(1, 2, 1)\n",
    "sns.histplot(df['number_of_reviews'], bins=50, kde=False)\n",
    "plt.title('Histogram of number_of_reviews')\n",
    "plt.xlabel('Total Number of Reviews')\n",
    "plt.ylabel('Number of Listings')\n",
    "# May need to set xlim due to skewness for better visualization\n",
    "# plt.xlim(0, df['number_of_reviews'].quantile(0.95)) # Example: view up to 95th percentile\n",
    "\n",
    "plt.subplot(1, 2, 2)\n",
    "sns.histplot(df[df['reviews_per_month'] > 0]['reviews_per_month'], bins=50, kde=False) # Exclude 0 for a better view of active listings\n",
    "plt.title('Histogram of reviews_per_month (for listings with >0 reviews/month)')\n",
    "plt.xlabel('Reviews per Month')\n",
    "plt.ylabel('Number of Listings')\n",
    "# May need to set xlim due to skewness\n",
    "# plt.xlim(0, df['reviews_per_month'].quantile(0.95)) # Example\n",
    "\n",
    "plt.tight_layout()\n",
    "plt.show()\n",
    "\n",
    "print(\"\\nDescription of number_of_reviews:\")\n",
    "print(df['number_of_reviews'].describe())\n",
    "print(\"\\nDescription of reviews_per_month (ensure NaNs were handled, e.g., filled with 0):\")\n",
    "print(df['reviews_per_month'].describe())"
   ]
  },
  {
   "cell_type": "markdown",
   "metadata": {},
   "source": [
    "2.5 Review Metrics - Per neighbourhood_group and neighbourhood"
   ]
  },
  {
   "cell_type": "code",
   "execution_count": null,
   "metadata": {},
   "outputs": [],
   "source": [
    "print(\"\\n--- Review Metrics: Per neighbourhood_group and neighbourhood ---\")\n",
    "\n",
    "# Average reviews_per_month per neighbourhood_group\n",
    "# Ensure reviews_per_month does not have NaNs before this step (e.g., filled with 0)\n",
    "avg_reviews_group = df.groupby('neighbourhood_group')['reviews_per_month'].mean().sort_values(ascending=False)\n",
    "print(\"\\nAverage reviews_per_month per neighbourhood_group (Sorted by most active):\")\n",
    "print(avg_reviews_group)\n",
    "\n",
    "plt.figure(figsize=(10, 6))\n",
    "avg_reviews_group.plot(kind='bar')\n",
    "plt.title('Average reviews_per_month by Neighbourhood Group')\n",
    "plt.ylabel('Average Reviews per Month')\n",
    "plt.xlabel('Neighbourhood Group')\n",
    "plt.xticks(rotation=45)\n",
    "plt.show()\n",
    "\n",
    "# Box plot of reviews_per_month by neighbourhood_group (for listings with reviews_per_month > 0)\n",
    "plt.figure(figsize=(10, 6))\n",
    "sns.boxplot(x='neighbourhood_group', y='reviews_per_month', data=df[df['reviews_per_month'] > 0])\n",
    "plt.title('Distribution of reviews_per_month (>0) by Neighbourhood Group')\n",
    "plt.ylabel('Reviews per Month')\n",
    "plt.xlabel('Neighbourhood Group')\n",
    "plt.xticks(rotation=45)\n",
    "# Consider using plt.ylim to zoom in if outliers are too extreme\n",
    "# plt.ylim(0, df[df['reviews_per_month'] > 0]['reviews_per_month'].quantile(0.95))\n",
    "plt.show()\n",
    "\n",
    "# Top 10 neighbourhoods with highest average reviews_per_month (potentially \"busiest\" by this metric)\n",
    "avg_reviews_neighbourhood = df.groupby('neighbourhood')['reviews_per_month'].mean().sort_values(ascending=False)\n",
    "print(\"\\nTop 10 Neighbourhoods with Highest Average reviews_per_month:\")\n",
    "print(avg_reviews_neighbourhood.head(10))"
   ]
  },
  {
   "cell_type": "markdown",
   "metadata": {},
   "source": [
    "2.6 Listing Density Analysis"
   ]
  },
  {
   "cell_type": "code",
   "execution_count": null,
   "metadata": {},
   "outputs": [],
   "source": [
    "print(\"\\n--- Listing Density Analysis ---\")\n",
    "\n",
    "# Listing density per neighbourhood_group\n",
    "density_group = df.groupby('neighbourhood_group')['id'].count().sort_values(ascending=False)\n",
    "print(\"\\nListing Density (Count) per neighbourhood_group:\")\n",
    "print(density_group)\n",
    "\n",
    "plt.figure(figsize=(10, 6))\n",
    "density_group.plot(kind='bar')\n",
    "plt.title('Listing Density by Neighbourhood Group')\n",
    "plt.ylabel('Number of Listings')\n",
    "plt.xlabel('Neighbourhood Group')\n",
    "plt.xticks(rotation=45)\n",
    "plt.show()\n",
    "\n",
    "# Top 10 neighbourhoods with highest listing density\n",
    "density_neighbourhood = df.groupby('neighbourhood')['id'].count().sort_values(ascending=False)\n",
    "print(\"\\nTop 10 Neighbourhoods with Highest Listing Density:\")\n",
    "print(density_neighbourhood.head(10))"
   ]
  },
  {
   "cell_type": "markdown",
   "metadata": {},
   "source": [
    "2.7 Correlations for Busyness (at Neighbourhood Level)"
   ]
  },
  {
   "cell_type": "code",
   "execution_count": null,
   "metadata": {},
   "outputs": [],
   "source": [
    "print(\"\\n--- Correlations for Busyness (at Neighbourhood Level) ---\")\n",
    "\n",
    "# 1. Create a neighbourhood-level DataFrame\n",
    "neighbourhood_stats = df.groupby('neighbourhood').agg(\n",
    "    avg_availability_365=('availability_365', 'mean'),\n",
    "    avg_reviews_per_month=('reviews_per_month', 'mean'), # Assumes reviews_per_month NaNs handled\n",
    "    listing_density=('id', 'count')\n",
    ").reset_index()\n",
    "\n",
    "print(\"\\nNeighbourhood Level Stats (first 5 rows):\")\n",
    "print(neighbourhood_stats.head())\n",
    "\n",
    "# 2. Calculate the correlation matrix\n",
    "# For busyness, we expect:\n",
    "# - avg_availability_365 to be negatively correlated with busyness (lower availability = busier)\n",
    "# - avg_reviews_per_month to be positively correlated with busyness\n",
    "# - listing_density to be positively correlated with busyness\n",
    "# So, let's make 'inverse_avg_availability' for easier interpretation in correlation\n",
    "neighbourhood_stats['inverse_avg_availability'] = 1 / (neighbourhood_stats['avg_availability_365'] + 0.001) # Add small constant to avoid division by zero\n",
    "\n",
    "busyness_features_corr = neighbourhood_stats[['inverse_avg_availability', 'avg_reviews_per_month', 'listing_density']].corr()\n",
    "\n",
    "print(\"\\nCorrelation matrix for potential busyness indicators:\")\n",
    "print(busyness_features_corr)\n",
    "\n",
    "# 3. Visualize the correlation matrix\n",
    "plt.figure(figsize=(8, 6))\n",
    "sns.heatmap(busyness_features_corr, annot=True, cmap='coolwarm', fmt=\".2f\")\n",
    "plt.title('Correlation Matrix of Neighbourhood Busyness Indicators')\n",
    "plt.show()\n",
    "\n",
    "print(\"\\nInterpretation of Correlation Matrix:\")\n",
    "print(\"- Positive values close to 1 indicate strong positive correlation.\")\n",
    "print(\"- Negative values close to -1 indicate strong negative correlation.\")\n",
    "print(\"- Values close to 0 indicate weak or no linear correlation.\")\n",
    "print(\"This helps understand if these metrics move together and could form parts of a composite 'busyness' score.\")"
   ]
  },
  {
   "cell_type": "markdown",
   "metadata": {},
   "source": [
    "Summary of Step 2 - \n",
    "\n",
    "Availability (availability_365): A significant portion of listings (over 35%) have zero availability, and half have 45 days or less. Brooklyn and Manhattan show the lowest average availability at the borough level, while specific neighborhoods across different boroughs show extreme highs and lows.\n",
    "\n",
    "Review Activity (number_of_reviews, reviews_per_month): Most listings have few total reviews and low monthly review rates, indicating skewed distributions where a minority of listings are highly active. Surprisingly, outer boroughs (Staten Island, Queens, Bronx) showed higher average reviews per month per listing than the denser Manhattan and Brooklyn. Specific neighborhoods, often in these outer boroughs, had listings with very high average review velocity.\n",
    "\n",
    "Listing Density: Manhattan and Brooklyn neighborhoods overwhelmingly have the highest concentration of listings.\n",
    "Correlations: The neighborhood-level aggregated metrics for busyness (based on inverse availability, average reviews per month, and listing density) showed weak, and sometimes counterintuitive (negative), linear correlations. This suggests these three aspects of \"busyness\" don't necessarily increase or decrease together."
   ]
  },
  {
   "cell_type": "markdown",
   "metadata": {},
   "source": [
    "3. Defining \"Similarity\" of Listings and Neighborhoods"
   ]
  },
  {
   "cell_type": "markdown",
   "metadata": {},
   "source": [
    "3.1 Price Analysis"
   ]
  },
  {
   "cell_type": "markdown",
   "metadata": {},
   "source": [
    "3.1.1 Overall Price Distribution & Outlier Check "
   ]
  },
  {
   "cell_type": "code",
   "execution_count": null,
   "metadata": {},
   "outputs": [],
   "source": [
    "print(\"--- Overall Price Distribution ---\")\n",
    "print(\"Descriptive statistics for 'price':\")\n",
    "print(df['price'].describe())\n",
    "\n",
    "plt.figure(figsize=(15, 5))\n",
    "\n",
    "plt.subplot(1, 2, 1)\n",
    "sns.histplot(df['price'], bins=100, kde=False)\n",
    "plt.title('Histogram of Price (Original)')\n",
    "plt.xlabel('Price')\n",
    "plt.ylabel('Number of Listings')\n",
    "\n",
    "plt.subplot(1, 2, 2)\n",
    "sns.boxplot(x=df['price'])\n",
    "plt.title('Box Plot of Price (Original)')\n",
    "plt.xlabel('Price')\n",
    "\n",
    "plt.tight_layout()\n",
    "plt.show()\n"
   ]
  },
  {
   "cell_type": "markdown",
   "metadata": {},
   "source": [
    "3.1.1 (b) Same as above but with log transformations for visualizations"
   ]
  },
  {
   "cell_type": "code",
   "execution_count": null,
   "metadata": {},
   "outputs": [],
   "source": [
    "print(\"\\n--- Price Distribution (Log Transformed for Visualization) ---\")\n",
    "df_log_price = df[df['price'] > 0]['price']\n",
    "log_price = np.log1p(df_log_price)\n",
    "\n",
    "plt.figure(figsize=(15, 5))\n",
    "\n",
    "plt.subplot(1, 2, 1)\n",
    "sns.histplot(log_price, bins=50, kde=True)\n",
    "plt.title('Histogram of log(1 + Price)')\n",
    "plt.xlabel('log(1 + Price)')\n",
    "plt.ylabel('Number of Listings')\n",
    "\n",
    "plt.subplot(1, 2, 2)\n",
    "sns.boxplot(x=log_price)\n",
    "plt.title('Box Plot of log(1 + Price)')\n",
    "plt.xlabel('log(1 + Price)')\n",
    "\n",
    "plt.tight_layout()\n",
    "plt.show()"
   ]
  },
  {
   "cell_type": "markdown",
   "metadata": {},
   "source": [
    "3.1.2 Price Distribution per room_type"
   ]
  },
  {
   "cell_type": "code",
   "execution_count": null,
   "metadata": {},
   "outputs": [],
   "source": [
    "print(\"\\n--- Price Distribution per room_type ---\")\n",
    "\n",
    "price_to_plot = np.log1p(df[df['price'] > 0]['price']) \n",
    "y_label_plot = 'log(1 + Price)' # Or 'Price'\n",
    "\n",
    "plt.figure(figsize=(12, 7))\n",
    "sns.boxplot(x='room_type', y=price_to_plot, data=df[df['price'] > 0]) # Ensure data matches price_to_plot\n",
    "plt.title(f'Distribution of {y_label_plot} by Room Type')\n",
    "plt.xlabel('Room Type')\n",
    "plt.ylabel(y_label_plot)\n",
    "plt.show()\n",
    "\n",
    "plt.figure(figsize=(12, 7))\n",
    "sns.violinplot(x='room_type', y=price_to_plot, data=df[df['price'] > 0])\n",
    "plt.title(f'Distribution of {y_label_plot} by Room Type (Violin Plot)')\n",
    "plt.xlabel('Room Type')\n",
    "plt.ylabel(y_label_plot)\n",
    "plt.show()\n",
    "\n",
    "print(\"\\nAverage and Median price per room_type:\")\n",
    "print(df.groupby('room_type')['price'].agg(['mean', 'median', 'count']).sort_values(by='median', ascending=False))"
   ]
  },
  {
   "cell_type": "markdown",
   "metadata": {},
   "source": [
    "3.1.3 Price Distribution per neighbourhood_group"
   ]
  },
  {
   "cell_type": "code",
   "execution_count": null,
   "metadata": {},
   "outputs": [],
   "source": [
    "print(\"\\n--- Price Distribution per neighbourhood_group ---\")\n",
    "\n",
    "plt.figure(figsize=(12, 7))\n",
    "sns.boxplot(x='neighbourhood_group', y=price_to_plot, data=df[df['price'] > 0])\n",
    "plt.title(f'Distribution of {y_label_plot} by Neighbourhood Group')\n",
    "plt.xlabel('Neighbourhood Group')\n",
    "plt.ylabel(y_label_plot)\n",
    "plt.xticks(rotation=45)\n",
    "plt.show()\n",
    "\n",
    "print(\"\\nAverage and Median price per neighbourhood_group:\")\n",
    "avg_price_borough = df.groupby('neighbourhood_group')['price'].agg(['mean', 'median', 'count']).sort_values(by='median', ascending=False)\n",
    "print(avg_price_borough)\n",
    "\n",
    "plt.figure(figsize=(10, 6))\n",
    "avg_price_borough['median'].plot(kind='bar')\n",
    "plt.title('Median Price by Neighbourhood Group')\n",
    "plt.ylabel('Median Price')\n",
    "plt.xlabel('Neighbourhood Group')\n",
    "plt.xticks(rotation=45)\n",
    "plt.show()"
   ]
  },
  {
   "cell_type": "markdown",
   "metadata": {},
   "source": [
    "3.1.4 Price Distribution per neighbourhood (Focused Analysis)"
   ]
  },
  {
   "cell_type": "code",
   "execution_count": null,
   "metadata": {},
   "outputs": [],
   "source": [
    "print(\"\\n--- Price Distribution per neighbourhood (Example: Top 10 most common) ---\")\n",
    "\n",
    "# Find the top 10 most common neighborhoods\n",
    "top_10_neighbourhoods = df['neighbourhood'].value_counts().nlargest(10).index\n",
    "print(f\"Analyzing price for Top 10 most common neighbourhoods: {list(top_10_neighbourhoods)}\")\n",
    "\n",
    "# Filter the DataFrame for these top 10 neighborhoods\n",
    "df_top_neighbourhoods = df[df['neighbourhood'].isin(top_10_neighbourhoods)]\n",
    "\n",
    "# Using log_price for visualization\n",
    "price_to_plot_neigh = np.log1p(df_top_neighbourhoods[df_top_neighbourhoods['price'] > 0]['price'])\n",
    "y_label_plot_neigh = 'log(1 + Price)'\n",
    "\n",
    "\n",
    "plt.figure(figsize=(18, 8))\n",
    "sns.boxplot(x='neighbourhood', y='price', data=df_top_neighbourhoods, order=top_10_neighbourhoods)\n",
    "plt.title(f'Distribution of Price in Top 10 Common Neighbourhoods')\n",
    "plt.xlabel('Neighbourhood')\n",
    "plt.ylabel('Price')\n",
    "plt.xticks(rotation=45, ha='right')\n",
    "plt.tight_layout()\n",
    "plt.show()\n",
    "\n",
    "print(\"\\nAverage and Median price for Top 10 most common neighbourhoods:\")\n",
    "avg_price_top_neigh = df_top_neighbourhoods.groupby('neighbourhood')['price'].agg(['mean', 'median', 'count']).reindex(top_10_neighbourhoods) # Keep original order\n",
    "print(avg_price_top_neigh)"
   ]
  },
  {
   "cell_type": "markdown",
   "metadata": {},
   "source": [
    "3.2 Room Type Analysis"
   ]
  },
  {
   "cell_type": "markdown",
   "metadata": {},
   "source": [
    "3.2.1 Overall room_type Distribution"
   ]
  },
  {
   "cell_type": "code",
   "execution_count": null,
   "metadata": {},
   "outputs": [],
   "source": [
    "print(\"--- Overall Room Type Distribution ---\")\n",
    "\n",
    "# Frequency counts\n",
    "room_type_counts = df['room_type'].value_counts()\n",
    "print(\"Frequency of each room_type:\")\n",
    "print(room_type_counts)\n",
    "\n",
    "# Proportions\n",
    "room_type_proportions = df['room_type'].value_counts(normalize=True) * 100\n",
    "print(\"\\nProportion of each room_type (%):\")\n",
    "print(room_type_proportions)\n",
    "\n",
    "# Visualization\n",
    "plt.figure(figsize=(8, 6))\n",
    "sns.countplot(data=df, x='room_type', order=room_type_counts.index) # Order by frequency\n",
    "plt.title('Overall Distribution of Room Types')\n",
    "plt.xlabel('Room Type')\n",
    "plt.ylabel('Number of Listings')\n",
    "plt.show()"
   ]
  },
  {
   "cell_type": "markdown",
   "metadata": {},
   "source": [
    "3.2.2 room_type Distribution per neighbourhood_group"
   ]
  },
  {
   "cell_type": "code",
   "execution_count": null,
   "metadata": {},
   "outputs": [],
   "source": [
    "print(\"\\n--- Room Type Distribution per Neighbourhood Group ---\")\n",
    "\n",
    "# Grouped counts\n",
    "group_room_counts = df.groupby('neighbourhood_group')['room_type'].value_counts(normalize=False).unstack(fill_value=0)\n",
    "print(\"Counts of room_type within each neighbourhood_group:\")\n",
    "print(group_room_counts)\n",
    "\n",
    "# Proportions for stacked bar chart\n",
    "group_room_proportions = df.groupby('neighbourhood_group')['room_type'].value_counts(normalize=True).mul(100).unstack(fill_value=0)\n",
    "print(\"\\nProportions (%) of room_type within each neighbourhood_group:\")\n",
    "print(group_room_proportions)\n",
    "\n",
    "# Visualization - Stacked Bar Chart for Proportions\n",
    "group_room_proportions.plot(kind='bar', stacked=True, figsize=(12, 7))\n",
    "plt.title('Proportion of Room Types within each Neighbourhood Group')\n",
    "plt.xlabel('Neighbourhood Group')\n",
    "plt.ylabel('Percentage of Listings (%)')\n",
    "plt.xticks(rotation=45)\n",
    "plt.legend(title='Room Type')\n",
    "plt.tight_layout()\n",
    "plt.show()\n",
    "\n",
    "# Alternative Visualization - Grouped Bar Chart for Counts (using catplot)\n",
    "plt.figure(figsize=(12, 7)) # May need to adjust figure size if using catplot separately\n",
    "g = sns.catplot(data=df, x='neighbourhood_group', hue='room_type', kind='count', height=6, aspect=1.5, legend_out=False)\n",
    "g.set_axis_labels(\"Neighbourhood Group\", \"Number of Listings\")\n",
    "g.fig.suptitle('Distribution of Room Types by Neighbourhood Group (Counts)', y=1.02) # Adjust title position\n",
    "plt.xticks(rotation=45)\n",
    "plt.legend(title='Room Type')\n",
    "plt.tight_layout() # Apply to the figure of the catplot\n",
    "plt.show()"
   ]
  },
  {
   "cell_type": "markdown",
   "metadata": {},
   "source": [
    "3.2.2 (b) room_type Distribution per neighbourhood (Focused)"
   ]
  },
  {
   "cell_type": "code",
   "execution_count": null,
   "metadata": {},
   "outputs": [],
   "source": [
    "print(\"\\n--- Room Type Distribution per Neighbourhood (Example: Top 5 Most Common) ---\")\n",
    "\n",
    "# Find the top 5 most common neighborhoods\n",
    "top_5_neighbourhoods = df['neighbourhood'].value_counts().nlargest(5).index\n",
    "print(f\"Analyzing room type distribution for Top 5 most common neighbourhoods: {list(top_5_neighbourhoods)}\")\n",
    "\n",
    "# Filter the DataFrame for these top 5 neighborhoods\n",
    "df_top_neighbourhoods = df[df['neighbourhood'].isin(top_5_neighbourhoods)]\n",
    "\n",
    "# Proportions for stacked bar chart for these specific neighborhoods\n",
    "top_hoods_room_proportions = df_top_neighbourhoods.groupby('neighbourhood')['room_type'].value_counts(normalize=True).mul(100).unstack(fill_value=0)\n",
    "print(\"\\nProportions (%) of room_type within selected top neighbourhoods:\")\n",
    "print(top_hoods_room_proportions.reindex(top_5_neighbourhoods)) # Keep original order\n",
    "\n",
    "# Visualization - Stacked Bar Chart for Proportions\n",
    "if not top_hoods_room_proportions.empty:\n",
    "    top_hoods_room_proportions.reindex(top_5_neighbourhoods).plot(kind='bar', stacked=True, figsize=(14, 7))\n",
    "    plt.title('Proportion of Room Types within Top 5 Common Neighbourhoods')\n",
    "    plt.xlabel('Neighbourhood')\n",
    "    plt.ylabel('Percentage of Listings (%)')\n",
    "    plt.xticks(rotation=45, ha='right')\n",
    "    plt.legend(title='Room Type')\n",
    "    plt.tight_layout()\n",
    "    plt.show()\n",
    "else:\n",
    "    print(\"No data to plot for top neighbourhoods.\")"
   ]
  },
  {
   "cell_type": "markdown",
   "metadata": {},
   "source": [
    "3.3 Minimum Nights"
   ]
  },
  {
   "cell_type": "markdown",
   "metadata": {},
   "source": [
    "3.3.1 Overall minimum_nights Distribution & Outlier Check"
   ]
  },
  {
   "cell_type": "code",
   "execution_count": null,
   "metadata": {},
   "outputs": [],
   "source": [
    "print(\"--- Overall minimum_nights Distribution ---\")\n",
    "print(\"Descriptive statistics for 'minimum_nights':\")\n",
    "print(df['minimum_nights'].describe())\n",
    "\n",
    "plt.figure(figsize=(15, 5))\n",
    "\n",
    "plt.subplot(1, 2, 1)\n",
    "sns.histplot(df['minimum_nights'], bins=100, kde=False) # Using more bins initially\n",
    "plt.title('Histogram of minimum_nights (Original Scale)')\n",
    "plt.xlabel('Minimum Nights')\n",
    "plt.ylabel('Number of Listings')\n",
    "# The x-axis might be dominated by outliers. We'll address this.\n",
    "\n",
    "plt.subplot(1, 2, 2)\n",
    "sns.boxplot(x=df['minimum_nights'])\n",
    "plt.title('Box Plot of minimum_nights (Original Scale)')\n",
    "plt.xlabel('Minimum Nights')\n",
    "\n",
    "plt.tight_layout()\n",
    "plt.show()"
   ]
  },
  {
   "cell_type": "markdown",
   "metadata": {},
   "source": [
    "3.3.1 (b) Focused Visualization of minimum_nights"
   ]
  },
  {
   "cell_type": "code",
   "execution_count": null,
   "metadata": {},
   "outputs": [],
   "source": [
    "print(\"\\n--- Focused Visualization of minimum_nights ---\")\n",
    "\n",
    "\n",
    "upper_limit = df['minimum_nights'].quantile(0.99) \n",
    "\n",
    "plt.figure(figsize=(15, 5))\n",
    "\n",
    "plt.subplot(1, 2, 1)\n",
    "sns.histplot(df[df['minimum_nights'] <= upper_limit]['minimum_nights'], bins=30, kde=False)\n",
    "plt.title(f'Histogram of minimum_nights (up to {upper_limit:.0f} nights)')\n",
    "plt.xlabel('Minimum Nights')\n",
    "plt.ylabel('Number of Listings')\n",
    "\n",
    "plt.subplot(1, 2, 2)\n",
    "sns.boxplot(x=df[df['minimum_nights'] <= upper_limit]['minimum_nights'])\n",
    "plt.title(f'Box Plot of minimum_nights (up to {upper_limit:.0f} nights)')\n",
    "plt.xlabel('Minimum Nights')\n",
    "\n",
    "plt.tight_layout()\n",
    "plt.show()\n",
    "\n",
    "\n",
    "plt.figure(figsize=(15, 5))\n",
    "plt.subplot(1, 2, 1)\n",
    "\n",
    "temp_min_nights_for_log_viz = df[df['minimum_nights'] > 0]['minimum_nights']\n",
    "sns.histplot(temp_min_nights_for_log_viz, bins=50, kde=False, log_scale=True)\n",
    "plt.title('Histogram of minimum_nights (Log Scale on X-axis)')\n",
    "plt.xlabel('Minimum Nights (Log Scale)')\n",
    "plt.ylabel('Number of Listings')\n",
    "\n",
    "plt.subplot(1, 2, 2)\n",
    "\n",
    "if df['minimum_nights'].min() >= 1:\n",
    "    sns.boxplot(x=np.log(df['minimum_nights']))\n",
    "    plt.title('Box Plot of log(minimum_nights)')\n",
    "    plt.xlabel('log(Minimum Nights)')\n",
    "elif df['minimum_nights'].min() >= 0: # If it can be 0, use log1p\n",
    "    sns.boxplot(x=np.log1p(df['minimum_nights']))\n",
    "    plt.title('Box Plot of log1p(minimum_nights)')\n",
    "    plt.xlabel('log1p(Minimum Nights)')\n",
    "    \n",
    "plt.tight_layout()\n",
    "plt.show()"
   ]
  },
  {
   "cell_type": "markdown",
   "metadata": {},
   "source": [
    "3.3.2 minimum_nights Distribution per room_type"
   ]
  },
  {
   "cell_type": "code",
   "execution_count": null,
   "metadata": {},
   "outputs": [],
   "source": [
    "print(\"\\n--- minimum_nights Distribution per room_type ---\")\n",
    "\n",
    "upper_limit_plot = df['minimum_nights'].quantile(0.95)\n",
    "\n",
    "plt.figure(figsize=(12, 7))\n",
    "sns.boxplot(x='room_type', y='minimum_nights', data=df[df['minimum_nights'] <= upper_limit_plot])\n",
    "plt.title(f'Distribution of minimum_nights (up to {upper_limit_plot:.0f} nights) by Room Type')\n",
    "plt.xlabel('Room Type')\n",
    "plt.ylabel(f'Minimum Nights (capped at {upper_limit_plot:.0f})')\n",
    "plt.show()\n",
    "\n",
    "\n",
    "plt.figure(figsize=(12, 7))\n",
    "sns.boxplot(x='room_type', y='minimum_nights', data=df)\n",
    "plt.yscale('log') \n",
    "plt.title('Distribution of minimum_nights by Room Type (Log Scale on Y-axis)')\n",
    "plt.xlabel('Room Type')\n",
    "plt.ylabel('Minimum Nights (Log Scale)')\n",
    "plt.show()\n",
    "\n",
    "print(\"\\nAverage and Median minimum_nights per room_type:\")\n",
    "print(df.groupby('room_type')['minimum_nights'].agg(['mean', 'median', 'count']).sort_values(by='median', ascending=False))"
   ]
  },
  {
   "cell_type": "markdown",
   "metadata": {},
   "source": [
    "3.3.3 minimum_nights Distribution per neighbourhood_group"
   ]
  },
  {
   "cell_type": "code",
   "execution_count": null,
   "metadata": {},
   "outputs": [],
   "source": [
    "print(\"\\n--- minimum_nights Distribution per neighbourhood_group ---\")\n",
    "\n",
    "\n",
    "plt.figure(figsize=(12, 7))\n",
    "sns.boxplot(x='neighbourhood_group', y='minimum_nights', data=df[df['minimum_nights'] <= upper_limit_plot])\n",
    "plt.title(f'Distribution of minimum_nights (up to {upper_limit_plot:.0f} nights) by Neighbourhood Group')\n",
    "plt.xlabel('Neighbourhood Group')\n",
    "plt.ylabel(f'Minimum Nights (capped at {upper_limit_plot:.0f})')\n",
    "plt.xticks(rotation=45)\n",
    "plt.show()\n",
    "\n",
    "plt.figure(figsize=(12, 7))\n",
    "sns.boxplot(x='neighbourhood_group', y='minimum_nights', data=df)\n",
    "plt.yscale('log') # Apply log scale to y-axis\n",
    "plt.title('Distribution of minimum_nights by Neighbourhood Group (Log Scale on Y-axis)')\n",
    "plt.xlabel('Neighbourhood Group')\n",
    "plt.ylabel('Minimum Nights (Log Scale)')\n",
    "plt.xticks(rotation=45)\n",
    "plt.show()\n",
    "\n",
    "print(\"\\nAverage and Median minimum_nights per neighbourhood_group:\")\n",
    "avg_min_nights_borough = df.groupby('neighbourhood_group')['minimum_nights'].agg(['mean', 'median', 'count']).sort_values(by='median', ascending=False)\n",
    "print(avg_min_nights_borough)\n",
    "\n",
    "plt.figure(figsize=(10, 6))\n",
    "avg_min_nights_borough['median'].plot(kind='bar')\n",
    "plt.title('Median minimum_nights by Neighbourhood Group')\n",
    "plt.ylabel('Median Minimum Nights')\n",
    "plt.xlabel('Neighbourhood Group')\n",
    "plt.xticks(rotation=45)\n",
    "plt.show()"
   ]
  },
  {
   "cell_type": "markdown",
   "metadata": {},
   "source": [
    "3.4 Host Characteristics"
   ]
  },
  {
   "cell_type": "markdown",
   "metadata": {},
   "source": [
    "3.4.1 Overall calculated_host_listings_count Distribution"
   ]
  },
  {
   "cell_type": "code",
   "execution_count": null,
   "metadata": {},
   "outputs": [],
   "source": [
    "print(\"--- Overall calculated_host_listings_count Distribution ---\")\n",
    "print(\"Descriptive statistics for 'calculated_host_listings_count':\")\n",
    "print(df['calculated_host_listings_count'].describe())\n",
    "\n",
    "plt.figure(figsize=(15, 5))\n",
    "\n",
    "plt.subplot(1, 2, 1)\n",
    "sns.histplot(df['calculated_host_listings_count'], bins=100, kde=False)\n",
    "plt.title('Histogram of Host Listings Count (Original Scale)')\n",
    "plt.xlabel('Number of Listings by Host')\n",
    "plt.ylabel('Number of Listings (from those hosts)')\n",
    "# The x-axis will likely be dominated by hosts with few listings.\n",
    "\n",
    "plt.subplot(1, 2, 2)\n",
    "sns.boxplot(x=df['calculated_host_listings_count'])\n",
    "plt.title('Box Plot of Host Listings Count (Original Scale)')\n",
    "plt.xlabel('Number of Listings by Host')\n",
    "\n",
    "plt.tight_layout()\n",
    "plt.show()\n",
    "\n",
    "print(\"\\nValue counts for host listings count (Top 10):\")\n",
    "print(df['calculated_host_listings_count'].value_counts().nlargest(10))\n",
    "\n",
    "print(f\"\\nPercentage of listings by hosts with only 1 listing: {(df['calculated_host_listings_count'] == 1).mean()*100:.2f}%\")\n",
    "print(f\"Percentage of listings by hosts with 1 to 2 listings: {(df['calculated_host_listings_count'] <= 2).mean()*100:.2f}%\")\n",
    "print(f\"Percentage of listings by hosts with more than 10 listings: {(df['calculated_host_listings_count'] > 10).mean()*100:.2f}%\")\n"
   ]
  },
  {
   "cell_type": "markdown",
   "metadata": {},
   "source": [
    "3.4.1 (b) Focused Visualization & Categorization of Host Types"
   ]
  },
  {
   "cell_type": "code",
   "execution_count": null,
   "metadata": {},
   "outputs": [],
   "source": [
    "print(\"\\n--- Focused Visualization of calculated_host_listings_count ---\")\n",
    "\n",
    "upper_limit_host_viz = df['calculated_host_listings_count'].quantile(0.95)\n",
    "\n",
    "plt.figure(figsize=(12, 5))\n",
    "sns.histplot(df[df['calculated_host_listings_count'] <= upper_limit_host_viz]['calculated_host_listings_count'],\n",
    "             bins=int(upper_limit_host_viz), kde=False)\n",
    "plt.title(f'Histogram of Host Listings Count (up to {upper_limit_host_viz:.0f} listings)')\n",
    "plt.xlabel('Number of Listings by Host')\n",
    "plt.ylabel('Number of Listings (from those hosts)')\n",
    "plt.show()\n",
    "\n",
    "plt.figure(figsize=(12, 5))\n",
    "sns.histplot(df['calculated_host_listings_count'], bins=50, kde=False, log_scale=(False, True))\n",
    "plt.title('Histogram of Host Listings Count (Log Scale on Y-axis)')\n",
    "plt.xlabel('Number of Listings by Host')\n",
    "plt.ylabel('Number of Listings (Log Scale)')\n",
    "plt.show()\n",
    "\n",
    "\n",
    "bins = [0, 1, 2, 5, 10, 50, df['calculated_host_listings_count'].max() + 1]\n",
    "labels = ['1', '2', '3-5', '6-10', '11-50', '51+']\n",
    "df['host_type_category'] = pd.cut(df['calculated_host_listings_count'], bins=bins, labels=labels, right=True)\n",
    "\n",
    "print(\"\\nDistribution of listings by derived host_type_category:\")\n",
    "host_type_counts = df['host_type_category'].value_counts().reindex(labels) # Ensure correct order\n",
    "print(host_type_counts)\n",
    "\n",
    "plt.figure(figsize=(10, 6))\n",
    "host_type_counts.plot(kind='bar')\n",
    "plt.title('Number of Listings by Host Type Category')\n",
    "plt.xlabel('Host Type (Number of Listings Managed)')\n",
    "plt.ylabel('Number of Listings')\n",
    "plt.xticks(rotation=45)\n",
    "plt.show()"
   ]
  },
  {
   "cell_type": "markdown",
   "metadata": {},
   "source": [
    "3.4.2 Host Type Distribution per room_type"
   ]
  },
  {
   "cell_type": "code",
   "execution_count": null,
   "metadata": {},
   "outputs": [],
   "source": [
    "print(\"\\n--- Host Type Distribution per room_type ---\")\n",
    "\n",
    "if 'host_type_category' in df.columns:\n",
    "    # Proportions for stacked bar chart\n",
    "    room_host_type_proportions = df.groupby('room_type')['host_type_category'].value_counts(normalize=True).mul(100).unstack(fill_value=0)\n",
    "    print(\"\\nProportions (%) of listings by host_type_category within each room_type:\")\n",
    "    print(room_host_type_proportions)\n",
    "\n",
    "    room_host_type_proportions.plot(kind='bar', stacked=True, figsize=(12, 7))\n",
    "    plt.title('Proportion of Listings by Host Type within each Room Type')\n",
    "    plt.xlabel('Room Type')\n",
    "    plt.ylabel('Percentage of Listings (%)')\n",
    "    plt.xticks(rotation=0)\n",
    "    plt.legend(title='Host Type (Listings Managed)', bbox_to_anchor=(1.05, 1), loc='upper left')\n",
    "    plt.tight_layout()\n",
    "    plt.show()\n",
    "else:\n",
    "    print(\"Column 'host_type_category' not created. Skipping this plot.\")\n",
    "\n",
    "# Boxplots of the original 'calculated_host_listings_count' by room_type\n",
    "plt.figure(figsize=(10, 6))\n",
    "sns.boxplot(x='room_type', y='calculated_host_listings_count', data=df)\n",
    "plt.yscale('log') # Apply log scale to y-axis\n",
    "plt.title('Distribution of Host Listings Count by Room Type (Log Scale on Y-axis)')\n",
    "plt.xlabel('Room Type')\n",
    "plt.ylabel('Host Listings Count (Log Scale)')\n",
    "plt.show()"
   ]
  },
  {
   "cell_type": "markdown",
   "metadata": {},
   "source": [
    "3.5 Relationships between Features"
   ]
  },
  {
   "cell_type": "markdown",
   "metadata": {},
   "source": [
    "3.5.1 Correlation Matrix for Numerical Features related to Price"
   ]
  },
  {
   "cell_type": "code",
   "execution_count": null,
   "metadata": {},
   "outputs": [],
   "source": [
    "print(\"--- Correlation Matrix for Price and Related Numerical Features ---\")\n",
    "\n",
    "# Select numerical features that might correlate with price\n",
    "numerical_features_for_corr = ['price', 'log_price', 'minimum_nights', 'number_of_reviews',\n",
    "                               'reviews_per_month', 'calculated_host_listings_count', 'availability_365']\n",
    "\n",
    "\n",
    "if 'log_price' not in df.columns and 'price' in df.columns:\n",
    "    df['log_price'] = np.log1p(df['price']) \n",
    "elif 'log_price' not in df.columns and 'price' not in df.columns:\n",
    "    numerical_features_for_corr = [col for col in numerical_features_for_corr if col in df.columns and col != 'log_price']\n",
    "\n",
    "\n",
    "correlation_matrix = df[numerical_features_for_corr].corr()\n",
    "\n",
    "plt.figure(figsize=(10, 8))\n",
    "sns.heatmap(correlation_matrix, annot=True, cmap='coolwarm', fmt=\".2f\", linewidths=.5)\n",
    "plt.title('Correlation Matrix of Price and Other Numerical Features')\n",
    "plt.show()"
   ]
  },
  {
   "cell_type": "markdown",
   "metadata": {},
   "source": [
    "3.5.2 Scatter Plot - log_price vs. number_of_reviews"
   ]
  },
  {
   "cell_type": "code",
   "execution_count": null,
   "metadata": {},
   "outputs": [],
   "source": [
    "print(\"\\n--- Scatter Plot: log_price vs. number_of_reviews ---\")\n",
    "\n",
    "if 'log_price' in df.columns and 'number_of_reviews' in df.columns and 'room_type' in df.columns:\n",
    "    plt.figure(figsize=(12, 7))\n",
    "    sns.scatterplot(x='number_of_reviews', y='log_price', data=df, hue='room_type', alpha=0.3, s=20) # s for marker size\n",
    "    plt.title('log_price vs. Number of Reviews (colored by Room Type)')\n",
    "    plt.xlabel('Number of Reviews')\n",
    "    plt.ylabel('log(1 + Price)')\n",
    "    plt.show()\n",
    "else:\n",
    "    print(\"Skipping scatter plot: 'log_price', 'number_of_reviews', or 'room_type' not found.\")\n"
   ]
  },
  {
   "cell_type": "markdown",
   "metadata": {},
   "source": [
    "3.5.3 Scatter Plot - log_price vs. reviews_per_month"
   ]
  },
  {
   "cell_type": "code",
   "execution_count": null,
   "metadata": {},
   "outputs": [],
   "source": [
    "print(\"\\n--- Scatter Plot: log_price vs. reviews_per_month ---\")\n",
    "\n",
    "if 'log_price' in df.columns and 'reviews_per_month' in df.columns and 'room_type' in df.columns:\n",
    "    plt.figure(figsize=(12, 7))\n",
    "    sns.scatterplot(x='reviews_per_month', y='log_price', data=df, hue='room_type', alpha=0.3, s=20)\n",
    "    plt.title('log_price vs. Reviews per Month (colored by Room Type)')\n",
    "    plt.xlabel('Reviews per Month')\n",
    "    plt.ylabel('log(1 + Price)')\n",
    "    plt.show()\n",
    "else:\n",
    "    print(\"Skipping scatter plot: 'log_price', 'reviews_per_month', or 'room_type' not found.\")\n"
   ]
  },
  {
   "cell_type": "markdown",
   "metadata": {},
   "source": [
    "3.5.4 Scatter Plot - log_price vs. availability_365"
   ]
  },
  {
   "cell_type": "code",
   "execution_count": null,
   "metadata": {},
   "outputs": [],
   "source": [
    "print(\"\\n--- Scatter Plot: log_price vs. availability_365 ---\")\n",
    "\n",
    "if 'log_price' in df.columns and 'availability_365' in df.columns and 'room_type' in df.columns:\n",
    "    plt.figure(figsize=(12, 7))\n",
    "    sns.scatterplot(x='availability_365', y='log_price', data=df, hue='room_type', alpha=0.3, s=20)\n",
    "    plt.title('log_price vs. Availability_365 (colored by Room Type)')\n",
    "    plt.xlabel('Availability (days out of 365)')\n",
    "    plt.ylabel('log(1 + Price)')\n",
    "    plt.show()\n",
    "else:\n",
    "    print(\"Skipping scatter plot: 'log_price', 'availability_365', or 'room_type' not found.\")"
   ]
  },
  {
   "cell_type": "markdown",
   "metadata": {},
   "source": [
    "3.5.5 Price vs. calculated_host_listings_count"
   ]
  },
  {
   "cell_type": "code",
   "execution_count": null,
   "metadata": {},
   "outputs": [],
   "source": [
    "print(\"\\n--- Price vs. calculated_host_listings_count ---\")\n",
    "\n",
    "if 'log_price' in df.columns and 'calculated_host_listings_count' in df.columns:\n",
    "    plt.figure(figsize=(12, 7))\n",
    "    temp_host_counts_for_log_viz = df[df['calculated_host_listings_count'] > 0]['calculated_host_listings_count']\n",
    "    \n",
    "    sns.scatterplot(x='calculated_host_listings_count', y='log_price', data=df, alpha=0.3, s=20)\n",
    "    plt.xscale('log') # Log scale for x-axis due to skewness of host listings count\n",
    "    plt.title('log_price vs. Host Listings Count (Log Scale on X-axis)')\n",
    "    plt.xlabel('Number of Listings by Host (Log Scale)')\n",
    "    plt.ylabel('log(1 + Price)')\n",
    "    plt.show()\n",
    "\n",
    "    if 'host_type_category' in df.columns:\n",
    "        plt.figure(figsize=(12, 7))\n",
    "        sns.boxplot(x='host_type_category', y='log_price', data=df, order=['1', '2', '3-5', '6-10', '11-50', '51+'])\n",
    "        plt.title('log_price by Host Type Category')\n",
    "        plt.xlabel('Host Type (Number of Listings Managed)')\n",
    "        plt.ylabel('log(1 + Price)')\n",
    "        plt.xticks(rotation=45)\n",
    "        plt.show()\n",
    "else:\n",
    "    print(\"Skipping plot: 'log_price' or 'calculated_host_listings_count' not found.\")"
   ]
  },
  {
   "cell_type": "markdown",
   "metadata": {},
   "source": [
    "Summary of Step 3 - Defining \"Similarity\" of Listings and Neighborhoods (for Neighborhood Characterization)\n",
    "\n",
    "Price Profile:\n",
    "\n",
    "The overall price distribution is heavily right-skewed, with a median price of $106 but a mean of $153 and a maximum of $10,000. This skewness persists within different room_types and neighbourhood_groups.\n",
    "room_type is a primary price driver: 'Entire home/apt' (median $160) is significantly more expensive than 'Private room' (median $70), which is pricier than 'Shared room' (median $45).\n",
    "neighbourhood_group also dictates price: Manhattan (median $150) is the most expensive borough, followed by Brooklyn (median $90), then Queens and Staten Island (both median $75), and the Bronx (median $65).\n",
    "Significant price variation exists even within the most common neighborhoods of the same borough (e.g., in Manhattan, Midtown's median price is $210, while Harlem's is $89).\n",
    "price showed weak linear correlation with number_of_reviews and availability_365 but is strongly influenced by room_type and broad location (neighbourhood_group).\n",
    "Room Type Composition:\n",
    "\n",
    "The market is dominated by 'Entire home/apt' (approx. 52%) and 'Private room' (approx. 45.7%), with 'Shared room' being a small niche (approx. 2.4%).\n",
    "The mix of room_types varies substantially by neighbourhood_group: Manhattan has a higher proportion of 'Entire home/apt' (~61%), while Queens and the Bronx have more 'Private room' listings (~60%). Brooklyn and Staten Island show a more balanced mix.\n",
    "This variation extends to specific popular neighborhoods (e.g., within Manhattan, Harlem has mostly 'Private rooms' while the Upper West Side has mostly 'Entire home/apt').\n",
    "Minimum Nights Profile:\n",
    "\n",
    "The overall distribution of minimum_nights is highly right-skewed (median 3 nights, mean ~7 nights, max 1250 nights). About 75% of listings require a minimum stay of 5 nights or less.\n",
    "Median minimum_nights are short across all boroughs (2-3 nights). However, Manhattan and Brooklyn show higher mean minimum_nights due to a greater prevalence of listings with very long minimum stay requirements.\n",
    "Host Profile (calculated_host_listings_count):\n",
    "\n",
    "The vast majority of listings (~66%) come from hosts managing only a single property; about 80% are from hosts with 1 or 2 listings.\n",
    "A \"long tail\" of professional hosts managing many properties exists, though they account for a smaller percentage of total listings.\n",
    "The distribution of host types varies by room_type: 'Entire home/apt' listings come from both many single hosts and the largest professional operators. 'Private rooms' are more common with small to mid-size hosts, and 'Shared rooms' often involve hosts managing a few to many listings (but not the very largest operators).\n",
    "An interesting observation was that the price range for listings might be narrower (more standardized) for listings managed by very large hosts.\n",
    "Implications for Defining Neighborhood Similarity:\n",
    "To define \"characteristically similar neighborhoods,\" a profile for each neighborhood should be constructed based on aggregated features reflecting its typical offerings. Key components of this profile will include: its typical price level(s) and distribution, its mix of available room types, its common minimum stay requirements, and potentially the predominant host profile (e.g., prevalence of single-listing vs. professional hosts). The EDA suggests these characteristics vary significantly and are crucial for distinguishing neighborhood types."
   ]
  },
  {
   "cell_type": "markdown",
   "metadata": {},
   "source": [
    "4. Understanding neighbourhood_group and neighbourhood Characteristics"
   ]
  },
  {
   "cell_type": "markdown",
   "metadata": {},
   "source": [
    "4.1 Price Profile per neighbourhood_group"
   ]
  },
  {
   "cell_type": "code",
   "execution_count": null,
   "metadata": {},
   "outputs": [],
   "source": [
    "print(\"--- Price Profile per Neighbourhood Group ---\")\n",
    "\n",
    "# Define custom quantiles for price range\n",
    "def q1(x): return x.quantile(0.25)\n",
    "def q3(x): return x.quantile(0.75)\n",
    "\n",
    "price_profile_group = df.groupby('neighbourhood_group')['price'].agg(\n",
    "    ['min', q1, 'median', 'mean', q3, 'max', 'std', 'count']\n",
    ").sort_values(by='median', ascending=False)\n",
    "\n",
    "price_profile_group.rename(columns={'q1': '25th_percentile', 'q3': '75th_percentile'}, inplace=True)\n",
    "\n",
    "print(\"Price profile (min, 25th, median, mean, 75th, max, std, count) per neighbourhood_group:\")\n",
    "print(price_profile_group)\n",
    "\n",
    "# Visualization (Box plot - you might have done this in price analysis, but good to see here too)\n",
    "# Using log_price for better visualization if available and price is skewed\n",
    "price_col_to_plot = 'log_price' if 'log_price' in df.columns else 'price'\n",
    "y_label = 'log(1+Price)' if price_col_to_plot == 'log_price' else 'Price'\n",
    "\n",
    "plt.figure(figsize=(10, 6))\n",
    "sns.boxplot(x='neighbourhood_group', y=price_col_to_plot, data=df, order=price_profile_group.index)\n",
    "plt.title(f'Price Distribution by Neighbourhood Group ({y_label})')\n",
    "plt.xlabel('Neighbourhood Group')\n",
    "plt.ylabel(y_label)\n",
    "plt.xticks(rotation=45)\n",
    "if price_col_to_plot == 'price':\n",
    "    pass\n",
    "plt.tight_layout()\n",
    "plt.show()"
   ]
  },
  {
   "cell_type": "markdown",
   "metadata": {},
   "source": [
    "4.2 Availability Profile per neighbourhood_group"
   ]
  },
  {
   "cell_type": "code",
   "execution_count": null,
   "metadata": {},
   "outputs": [],
   "source": [
    "print(\"\\n--- Availability Profile per Neighbourhood Group ---\")\n",
    "\n",
    "availability_profile_group = df.groupby('neighbourhood_group')['availability_365'].agg(\n",
    "    ['min', q1, 'median', 'mean', q3, 'max', 'std', 'count']\n",
    ").sort_values(by='median', ascending=True) # Sorted by typically least available\n",
    "\n",
    "availability_profile_group.rename(columns={'q1': '25th_percentile', 'q3': '75th_percentile'}, inplace=True)\n",
    "\n",
    "print(\"Availability_365 profile (min, 25th, median, mean, 75th, max, std, count) per neighbourhood_group:\")\n",
    "print(availability_profile_group)\n",
    "\n",
    "# Visualization\n",
    "plt.figure(figsize=(10, 6))\n",
    "sns.boxplot(x='neighbourhood_group', y='availability_365', data=df, order=availability_profile_group.index)\n",
    "plt.title('Availability_365 Distribution by Neighbourhood Group')\n",
    "plt.xlabel('Neighbourhood Group')\n",
    "plt.ylabel('Availability (days out of 365)')\n",
    "plt.xticks(rotation=45)\n",
    "plt.tight_layout()\n",
    "plt.show()"
   ]
  },
  {
   "cell_type": "markdown",
   "metadata": {},
   "source": [
    "4.3 Dominant Room Type(s) per neighbourhood_group"
   ]
  },
  {
   "cell_type": "code",
   "execution_count": null,
   "metadata": {},
   "outputs": [],
   "source": [
    "print(\"\\n--- Dominant Room Type(s) per Neighbourhood Group ---\")\n",
    "\n",
    "# Calculate proportions of each room_type within each neighbourhood_group\n",
    "room_type_proportions_group = pd.crosstab(df['neighbourhood_group'], df['room_type'], normalize='index') * 100\n",
    "room_type_proportions_group = room_type_proportions_group.round(2) # Round for cleaner display\n",
    "\n",
    "print(\"Proportions (%) of room_types within each neighbourhood_group:\")\n",
    "print(room_type_proportions_group)\n",
    "\n",
    "# To find the top 1 or 2 dominant types programmatically:\n",
    "print(\"\\nDominant room types (top 1 or 2 based on count):\")\n",
    "for group, data in df.groupby('neighbourhood_group'):\n",
    "    print(f\"\\n{group}:\")\n",
    "    top_room_types = data['room_type'].value_counts().nlargest(2) # Get top 2\n",
    "    for room_type, count in top_room_types.items():\n",
    "        percentage = (count / len(data)) * 100\n",
    "        print(f\"  - {room_type}: {count} listings ({percentage:.2f}%)\")\n",
    "\n",
    "\n",
    "# Visualization (Stacked Bar Chart - you might have done this, but good for profile summary)\n",
    "if not room_type_proportions_group.empty:\n",
    "    room_type_proportions_group.plot(kind='bar', stacked=True, figsize=(12, 7))\n",
    "    plt.title('Proportion of Room Types within each Neighbourhood Group')\n",
    "    plt.xlabel('Neighbourhood Group')\n",
    "    plt.ylabel('Percentage of Listings (%)')\n",
    "    plt.xticks(rotation=45)\n",
    "    plt.legend(title='Room Type', bbox_to_anchor=(1.05, 1), loc='upper left')\n",
    "    plt.tight_layout()\n",
    "    plt.show()"
   ]
  },
  {
   "cell_type": "markdown",
   "metadata": {},
   "source": [
    "4.4 Review Volume Profile per neighbourhood_group"
   ]
  },
  {
   "cell_type": "code",
   "execution_count": null,
   "metadata": {},
   "outputs": [],
   "source": [
    "print(\"\\n--- Review Volume Profile per Neighbourhood Group ---\")\n",
    "\n",
    "print(\"\\n--- Profile for 'number_of_reviews' (Total Reviews Received) ---\")\n",
    "review_count_profile_group = df.groupby('neighbourhood_group')['number_of_reviews'].agg(\n",
    "    ['sum', q1, 'median', 'mean', q3, 'max', 'count'] # Sum might be interesting too\n",
    ").sort_values(by='median', ascending=False)\n",
    "review_count_profile_group.rename(columns={'q1': '25th_percentile', 'q3': '75th_percentile'}, inplace=True)\n",
    "print(review_count_profile_group)\n",
    "\n",
    "plt.figure(figsize=(10,6))\n",
    "sns.boxplot(x='neighbourhood_group', y='number_of_reviews', data=df, order=review_count_profile_group.index)\n",
    "plt.yscale('log') # Use log scale due to skewness\n",
    "plt.title('Distribution of number_of_reviews by Neighbourhood Group (Log Scale Y)')\n",
    "plt.xlabel('Neighbourhood Group')\n",
    "plt.ylabel('Number of Reviews (Log Scale)')\n",
    "plt.xticks(rotation=45)\n",
    "plt.tight_layout()\n",
    "plt.show()\n",
    "\n",
    "\n",
    "print(\"\\n--- Profile for 'reviews_per_month' (Review Activity Rate) ---\")\n",
    "# Ensure 'reviews_per_month' has NaNs filled with 0 as per earlier EDA steps\n",
    "rpm_profile_group = df.groupby('neighbourhood_group')['reviews_per_month'].agg(\n",
    "    ['sum', q1, 'median', 'mean', q3, 'max', 'count']\n",
    ").sort_values(by='median', ascending=False)\n",
    "rpm_profile_group.rename(columns={'q1': '25th_percentile', 'q3': '75th_percentile'}, inplace=True)\n",
    "print(rpm_profile_group)\n",
    "\n",
    "plt.figure(figsize=(10,6))\n",
    "sns.boxplot(x='neighbourhood_group', y='reviews_per_month', data=df, order=rpm_profile_group.index)\n",
    "upper_rpm_viz_limit = df[df['reviews_per_month'] > 0]['reviews_per_month'].quantile(0.95) # 95th percentile of non-zero values\n",
    "if pd.notna(upper_rpm_viz_limit) and upper_rpm_viz_limit > 0 : # Check if limit is valid\n",
    "    plt.ylim(0, upper_rpm_viz_limit)\n",
    "plt.title(f'Distribution of reviews_per_month by Neighbourhood Group (capped at {upper_rpm_viz_limit:.2f})')\n",
    "plt.xlabel('Neighbourhood Group')\n",
    "plt.ylabel('Reviews per Month')\n",
    "plt.xticks(rotation=45)\n",
    "plt.tight_layout()\n",
    "plt.show()"
   ]
  },
  {
   "cell_type": "markdown",
   "metadata": {},
   "source": [
    "4.5 Intra-Neighbourhood Variation"
   ]
  },
  {
   "cell_type": "code",
   "execution_count": null,
   "metadata": {},
   "outputs": [],
   "source": [
    "print(\"--- Intra-Borough Variation: Price (log_price) ---\")\n",
    "\n",
    "if 'log_price' not in df.columns:\n",
    "    print(\"Warning: 'log_price' column not found. Please create it first for better price visualization.\")\n",
    "    # As a fallback, try to use original 'price' but it might be heavily skewed\n",
    "    price_col_to_plot = 'price'\n",
    "    price_y_label = 'Price (Original Scale - may be skewed)'\n",
    "else:\n",
    "    price_col_to_plot = 'log_price'\n",
    "    price_y_label = 'log(1 + Price)'\n",
    "\n",
    "\n",
    "for group_name, group_df in df.groupby('neighbourhood_group'):\n",
    "    plt.figure(figsize=(15, 8)) # Adjust size as needed\n",
    "    \n",
    "    ordered_neighbourhoods = group_df.groupby('neighbourhood')[price_col_to_plot].median().sort_values().index\n",
    "    \n",
    "    sns.boxplot(x='neighbourhood', y=price_col_to_plot, data=group_df, order=ordered_neighbourhoods)\n",
    "    \n",
    "    plt.title(f'Price Distribution by Neighbourhood in {group_name}\\n({price_y_label})')\n",
    "    plt.xlabel('Neighbourhood')\n",
    "    plt.ylabel(price_y_label)\n",
    "    plt.xticks(rotation=90, ha='right', fontsize=8) # Rotate labels for readability\n",
    "    plt.tight_layout() # Adjust layout to make room for labels\n",
    "    plt.show()\n",
    "    \n",
    "    print(f\"Descriptive statistics for {price_col_to_plot} in {group_name} (Top 5 neighbourhoods by median {price_col_to_plot}):\")\n",
    "    top_5_hoods_price_stats = group_df.groupby('neighbourhood')[price_col_to_plot].agg(['median', 'mean', 'count', 'std']).loc[ordered_neighbourhoods[-5:]].sort_values('median', ascending=False)\n",
    "    print(top_5_hoods_price_stats)\n",
    "    print(\"-\" * 50)"
   ]
  },
  {
   "cell_type": "markdown",
   "metadata": {},
   "source": [
    "4.6 Intra-Neighbourhood Variation - Listing Types (Room Type Proportions)"
   ]
  },
  {
   "cell_type": "code",
   "execution_count": null,
   "metadata": {},
   "outputs": [],
   "source": [
    "print(\"\\n--- Intra-Borough Variation: Listing Types (Room Type Proportions) ---\")\n",
    "\n",
    "# Calculate room type proportions for each neighbourhood\n",
    "neighbourhood_room_counts = df.groupby(['neighbourhood_group', 'neighbourhood', 'room_type']).size().unstack(fill_value=0)\n",
    "neighbourhood_room_proportions = neighbourhood_room_counts.apply(lambda x: x / x.sum() if x.sum() > 0 else x, axis=1).reset_index()\n",
    "\n",
    "# Get the list of unique room types to plot\n",
    "room_types_to_plot = df['room_type'].unique()\n",
    "\n",
    "for group_name in df['neighbourhood_group'].unique():\n",
    "    group_df_proportions = neighbourhood_room_proportions[neighbourhood_room_proportions['neighbourhood_group'] == group_name]\n",
    "    \n",
    "    if group_df_proportions.empty:\n",
    "        print(f\"No data for {group_name} to plot room type proportions.\")\n",
    "        continue\n",
    "        \n",
    "    fig, axes = plt.subplots(len(room_types_to_plot), 1, figsize=(15, 5 * len(room_types_to_plot)), sharex=False) # sharex=False might be better if neighborhood lists differ\n",
    "    if len(room_types_to_plot) == 1: # handles case of single room type if dataset was filtered\n",
    "        axes = [axes] \n",
    "\n",
    "    fig.suptitle(f'Distribution of Room Type Proportions across Neighbourhoods in {group_name}', fontsize=16, y=1.02)\n",
    "    \n",
    "    for i, room_type_col in enumerate(room_types_to_plot):\n",
    "        if room_type_col in group_df_proportions.columns:\n",
    "\n",
    "            ordered_hoods_rt = group_df_proportions.sort_values(by=room_type_col)['neighbourhood']\n",
    "\n",
    "            sns.boxplot(ax=axes[i], x='neighbourhood', y=room_type_col, data=group_df_proportions, order=ordered_hoods_rt)\n",
    "            axes[i].set_title(f'Proportion of \"{room_type_col}\" listings')\n",
    "            axes[i].set_xlabel('') # Avoid repetitive x-labels\n",
    "            axes[i].set_ylabel('Proportion')\n",
    "            axes[i].tick_params(axis='x', rotation=90, labelsize=8)\n",
    "        else:\n",
    "            axes[i].set_title(f'No \"{room_type_col}\" listings found in proportions for this group.')\n",
    "            axes[i].tick_params(axis='x', rotation=90, labelsize=8)\n",
    "\n",
    "\n",
    "    plt.tight_layout(rect=[0, 0, 1, 0.98]) # Adjust layout to make room for suptitle\n",
    "    plt.show()\n",
    "    \n",
    "    print(f\"Summary of 'Entire home/apt' proportions in {group_name} (example):\")\n",
    "    if 'Entire home/apt' in group_df_proportions.columns:\n",
    "        print(group_df_proportions[['neighbourhood', 'Entire home/apt']].describe())\n",
    "    print(\"-\" * 50)"
   ]
  },
  {
   "cell_type": "markdown",
   "metadata": {},
   "source": [
    "Summary of Step 4 - Understanding neighbourhood_group and neighbourhood Characteristics\n",
    "\n",
    "Distinct neighbourhood_group Level Profiles:\n",
    "\n",
    "Price & Room Type Dynamics:\n",
    "A clear price hierarchy exists: 'Manhattan' is the most expensive neighbourhood_group (median price ~$150), followed by 'Brooklyn' (~$90), then 'Queens' and 'Staten Island' (both ~$75), with the 'Bronx' being the most affordable (~$65).\n",
    "Dominant room_types vary: 'Manhattan' is characterized by a majority of 'Entire home/apt' listings (~61%). 'Brooklyn' and 'Staten Island' show a more balanced mix between 'Entire home/apt' and 'Private room'. 'Queens' and the 'Bronx' lean more towards 'Private room' listings (~60%), with the 'Bronx' also having the highest relative proportion of 'Shared room's.\n",
    "Availability Patterns:\n",
    "Listings in 'Brooklyn' (median 28 days) and 'Manhattan' (median 36 days) exhibit the lowest median availability, suggesting tighter overall supply or higher occupancy.\n",
    "'Queens' and the 'Bronx' offer more available listings on average, while 'Staten Island' listings are typically the most available throughout the year (median 219 days).\n",
    "Review Volume & Activity:\n",
    "The typical listing (median) in 'Staten Island' shows the highest number of accumulated reviews and the highest monthly review velocity, despite it having the fewest total listings. The 'Bronx' and 'Queens' follow with robust review activity per listing.\n",
    "'Manhattan' and 'Brooklyn', despite their high density and prices, showed lower median review counts and monthly review rates per listing.\n",
    "Significant Variation at the neighbourhood Level (Within neighbourhood_groups):\n",
    "\n",
    "Price Variation: All neighbourhood_groups demonstrate considerable price differences between their constituent neighbourhoods. For example, within Manhattan, median prices in its most common/popular neighborhoods can range significantly (e.g., Harlem ~$89 vs. Midtown ~$210).\n",
    "Room Type Mix Variation: The proportion of different room_types is not uniform within any neighbourhood_group. For instance, some Manhattan neighbourhoods are heavily skewed towards 'Entire home/apt', while others like Harlem have a much higher share of 'Private room' listings, deviating from the overall neighbourhood_group average.\n",
    "Availability Variation: Visualizations indicated that availability patterns also differ widely among neighbourhoods within the same neighbourhood_group; some neighbourhoods are far more supply-constrained than others.\n",
    "Overall Implication for Your Project:\n",
    "\n",
    "The key insight is that while neighbourhood_group provides essential high-level context (e.g., general price tier, broad availability pressures), significant heterogeneity exists among neighbourhoods within each neighbourhood_group.\n",
    "Therefore, to effectively identify \"characteristically similar neighborhoods\" for your recommendation system, relying solely on neighbourhood_group-level characteristics would be insufficient. It's crucial to develop and use granular, neighbourhood-specific profiles based on price, room type composition, typical availability, and other explored features to capture their unique characters."
   ]
  }
 ],
 "metadata": {
  "kernelspec": {
   "display_name": "Python 3",
   "language": "python",
   "name": "python3"
  },
  "language_info": {
   "codemirror_mode": {
    "name": "ipython",
    "version": 3
   },
   "file_extension": ".py",
   "mimetype": "text/x-python",
   "name": "python",
   "nbconvert_exporter": "python",
   "pygments_lexer": "ipython3",
   "version": "3.12.4"
  }
 },
 "nbformat": 4,
 "nbformat_minor": 2
}
