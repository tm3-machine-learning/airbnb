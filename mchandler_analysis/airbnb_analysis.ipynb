{
 "cells": [
  {
   "cell_type": "markdown",
   "metadata": {},
   "source": [
    "Missing Values: Identify and handle missing values, especially in key columns like reviews_per_month (which might be legitimately null or 0 if number_of_reviews is 0) and last_review.\n",
    "Han, J., Pei, J. and Tong, H. (2022, Chapter 3: Data Preprocessing) provide comprehensive techniques for handling missing data.\n"
   ]
  },
  {
   "cell_type": "markdown",
   "metadata": {},
   "source": [
    "1. Load Data"
   ]
  },
  {
   "cell_type": "code",
   "execution_count": 24,
   "metadata": {},
   "outputs": [
    {
     "name": "stdout",
     "output_type": "stream",
     "text": [
      "Dataset loaded. Shape: (48895, 16)\n"
     ]
    },
    {
     "data": {
      "text/html": [
       "<div>\n",
       "<style scoped>\n",
       "    .dataframe tbody tr th:only-of-type {\n",
       "        vertical-align: middle;\n",
       "    }\n",
       "\n",
       "    .dataframe tbody tr th {\n",
       "        vertical-align: top;\n",
       "    }\n",
       "\n",
       "    .dataframe thead th {\n",
       "        text-align: right;\n",
       "    }\n",
       "</style>\n",
       "<table border=\"1\" class=\"dataframe\">\n",
       "  <thead>\n",
       "    <tr style=\"text-align: right;\">\n",
       "      <th></th>\n",
       "      <th>id</th>\n",
       "      <th>name</th>\n",
       "      <th>host_id</th>\n",
       "      <th>host_name</th>\n",
       "      <th>neighbourhood_group</th>\n",
       "      <th>neighbourhood</th>\n",
       "      <th>latitude</th>\n",
       "      <th>longitude</th>\n",
       "      <th>room_type</th>\n",
       "      <th>price</th>\n",
       "      <th>minimum_nights</th>\n",
       "      <th>number_of_reviews</th>\n",
       "      <th>last_review</th>\n",
       "      <th>reviews_per_month</th>\n",
       "      <th>calculated_host_listings_count</th>\n",
       "      <th>availability_365</th>\n",
       "    </tr>\n",
       "  </thead>\n",
       "  <tbody>\n",
       "    <tr>\n",
       "      <th>0</th>\n",
       "      <td>2539</td>\n",
       "      <td>Clean &amp; quiet apt home by the park</td>\n",
       "      <td>2787</td>\n",
       "      <td>John</td>\n",
       "      <td>Brooklyn</td>\n",
       "      <td>Kensington</td>\n",
       "      <td>40.64749</td>\n",
       "      <td>-73.97237</td>\n",
       "      <td>Private room</td>\n",
       "      <td>149</td>\n",
       "      <td>1</td>\n",
       "      <td>9</td>\n",
       "      <td>2018-10-19</td>\n",
       "      <td>0.21</td>\n",
       "      <td>6</td>\n",
       "      <td>365</td>\n",
       "    </tr>\n",
       "    <tr>\n",
       "      <th>1</th>\n",
       "      <td>2595</td>\n",
       "      <td>Skylit Midtown Castle</td>\n",
       "      <td>2845</td>\n",
       "      <td>Jennifer</td>\n",
       "      <td>Manhattan</td>\n",
       "      <td>Midtown</td>\n",
       "      <td>40.75362</td>\n",
       "      <td>-73.98377</td>\n",
       "      <td>Entire home/apt</td>\n",
       "      <td>225</td>\n",
       "      <td>1</td>\n",
       "      <td>45</td>\n",
       "      <td>2019-05-21</td>\n",
       "      <td>0.38</td>\n",
       "      <td>2</td>\n",
       "      <td>355</td>\n",
       "    </tr>\n",
       "    <tr>\n",
       "      <th>2</th>\n",
       "      <td>3647</td>\n",
       "      <td>THE VILLAGE OF HARLEM....NEW YORK !</td>\n",
       "      <td>4632</td>\n",
       "      <td>Elisabeth</td>\n",
       "      <td>Manhattan</td>\n",
       "      <td>Harlem</td>\n",
       "      <td>40.80902</td>\n",
       "      <td>-73.94190</td>\n",
       "      <td>Private room</td>\n",
       "      <td>150</td>\n",
       "      <td>3</td>\n",
       "      <td>0</td>\n",
       "      <td>NaN</td>\n",
       "      <td>NaN</td>\n",
       "      <td>1</td>\n",
       "      <td>365</td>\n",
       "    </tr>\n",
       "    <tr>\n",
       "      <th>3</th>\n",
       "      <td>3831</td>\n",
       "      <td>Cozy Entire Floor of Brownstone</td>\n",
       "      <td>4869</td>\n",
       "      <td>LisaRoxanne</td>\n",
       "      <td>Brooklyn</td>\n",
       "      <td>Clinton Hill</td>\n",
       "      <td>40.68514</td>\n",
       "      <td>-73.95976</td>\n",
       "      <td>Entire home/apt</td>\n",
       "      <td>89</td>\n",
       "      <td>1</td>\n",
       "      <td>270</td>\n",
       "      <td>2019-07-05</td>\n",
       "      <td>4.64</td>\n",
       "      <td>1</td>\n",
       "      <td>194</td>\n",
       "    </tr>\n",
       "    <tr>\n",
       "      <th>4</th>\n",
       "      <td>5022</td>\n",
       "      <td>Entire Apt: Spacious Studio/Loft by central park</td>\n",
       "      <td>7192</td>\n",
       "      <td>Laura</td>\n",
       "      <td>Manhattan</td>\n",
       "      <td>East Harlem</td>\n",
       "      <td>40.79851</td>\n",
       "      <td>-73.94399</td>\n",
       "      <td>Entire home/apt</td>\n",
       "      <td>80</td>\n",
       "      <td>10</td>\n",
       "      <td>9</td>\n",
       "      <td>2018-11-19</td>\n",
       "      <td>0.10</td>\n",
       "      <td>1</td>\n",
       "      <td>0</td>\n",
       "    </tr>\n",
       "  </tbody>\n",
       "</table>\n",
       "</div>"
      ],
      "text/plain": [
       "     id                                              name  host_id  \\\n",
       "0  2539                Clean & quiet apt home by the park     2787   \n",
       "1  2595                             Skylit Midtown Castle     2845   \n",
       "2  3647               THE VILLAGE OF HARLEM....NEW YORK !     4632   \n",
       "3  3831                   Cozy Entire Floor of Brownstone     4869   \n",
       "4  5022  Entire Apt: Spacious Studio/Loft by central park     7192   \n",
       "\n",
       "     host_name neighbourhood_group neighbourhood  latitude  longitude  \\\n",
       "0         John            Brooklyn    Kensington  40.64749  -73.97237   \n",
       "1     Jennifer           Manhattan       Midtown  40.75362  -73.98377   \n",
       "2    Elisabeth           Manhattan        Harlem  40.80902  -73.94190   \n",
       "3  LisaRoxanne            Brooklyn  Clinton Hill  40.68514  -73.95976   \n",
       "4        Laura           Manhattan   East Harlem  40.79851  -73.94399   \n",
       "\n",
       "         room_type  price  minimum_nights  number_of_reviews last_review  \\\n",
       "0     Private room    149               1                  9  2018-10-19   \n",
       "1  Entire home/apt    225               1                 45  2019-05-21   \n",
       "2     Private room    150               3                  0         NaN   \n",
       "3  Entire home/apt     89               1                270  2019-07-05   \n",
       "4  Entire home/apt     80              10                  9  2018-11-19   \n",
       "\n",
       "   reviews_per_month  calculated_host_listings_count  availability_365  \n",
       "0               0.21                               6               365  \n",
       "1               0.38                               2               355  \n",
       "2                NaN                               1               365  \n",
       "3               4.64                               1               194  \n",
       "4               0.10                               1                 0  "
      ]
     },
     "execution_count": 24,
     "metadata": {},
     "output_type": "execute_result"
    }
   ],
   "source": [
    "import pandas as pd\n",
    "import numpy as np\n",
    "df = pd.read_csv(\"AB_NYC_2019.csv\")\n",
    "print(\"Dataset loaded. Shape:\", df.shape)\n",
    "df.head()"
   ]
  },
  {
   "cell_type": "markdown",
   "metadata": {},
   "source": [
    "2. Overall Missing Value Summary"
   ]
  },
  {
   "cell_type": "code",
   "execution_count": 25,
   "metadata": {},
   "outputs": [
    {
     "name": "stdout",
     "output_type": "stream",
     "text": [
      "--- Overall Missing Value Counts ---\n",
      "name                    16\n",
      "host_name               21\n",
      "last_review          10052\n",
      "reviews_per_month    10052\n",
      "dtype: int64\n"
     ]
    }
   ],
   "source": [
    "print(\"--- Overall Missing Value Counts ---\")\n",
    "missing_values_summary = df.isnull().sum()\n",
    "print(missing_values_summary[missing_values_summary > 0])"
   ]
  },
  {
   "cell_type": "markdown",
   "metadata": {},
   "source": [
    "3. Analyze Missing reviews_per_month"
   ]
  },
  {
   "cell_type": "code",
   "execution_count": 26,
   "metadata": {},
   "outputs": [
    {
     "name": "stdout",
     "output_type": "stream",
     "text": [
      "--- Analyzing Missing 'reviews_per_month' ---\n",
      "Total NaN values in 'reviews_per_month': 10052\n",
      "Number of listings with 0 reviews: 10052\n",
      "NaN in 'reviews_per_month' when 'number_of_reviews' is 0: 10052\n",
      "\n",
      "Observation: All NaN values in 'reviews_per_month' occur where 'number_of_reviews' is 0.\n",
      "Interpretation: This is expected. If there are no reviews, 'reviews_per_month' cannot be calculated and is thus NaN.\n",
      "Proposed Strategy for next step: Impute these NaNs with 0.\n"
     ]
    }
   ],
   "source": [
    "print(\"--- Analyzing Missing 'reviews_per_month' ---\")\n",
    "if 'reviews_per_month' in df.columns and 'number_of_reviews' in df.columns:\n",
    "    total_nan_rpm = df['reviews_per_month'].isnull().sum()\n",
    "    print(f\"Total NaN values in 'reviews_per_month': {total_nan_rpm}\")\n",
    "\n",
    "    listings_with_zero_reviews = df[df['number_of_reviews'] == 0]\n",
    "    print(f\"Number of listings with 0 reviews: {len(listings_with_zero_reviews)}\")\n",
    "\n",
    "    nan_rpm_when_zero_reviews = 0\n",
    "    if not listings_with_zero_reviews.empty:\n",
    "        nan_rpm_when_zero_reviews = listings_with_zero_reviews['reviews_per_month'].isnull().sum()\n",
    "    print(f\"NaN in 'reviews_per_month' when 'number_of_reviews' is 0: {nan_rpm_when_zero_reviews}\")\n",
    "\n",
    "    if total_nan_rpm > 0 and total_nan_rpm == nan_rpm_when_zero_reviews and len(listings_with_zero_reviews) == total_nan_rpm:\n",
    "        print(\"\\nObservation: All NaN values in 'reviews_per_month' occur where 'number_of_reviews' is 0.\")\n",
    "        print(\"Interpretation: This is expected. If there are no reviews, 'reviews_per_month' cannot be calculated and is thus NaN.\")\n",
    "        print(\"Proposed Strategy for next step: Impute these NaNs with 0.\")\n",
    "    else:\n",
    "        nan_rpm_with_reviews = df[(df['reviews_per_month'].isnull()) & (df['number_of_reviews'] > 0)]\n",
    "        count_nan_rpm_with_reviews = len(nan_rpm_with_reviews)\n",
    "        print(f\"\\nNumber of listings with 'reviews_per_month' = NaN BUT 'number_of_reviews' > 0: {count_nan_rpm_with_reviews}\")\n",
    "        if count_nan_rpm_with_reviews > 0:\n",
    "            print(\"Observation: There are unexpected NaNs in 'reviews_per_month' for listings that DO have reviews. These need further investigation or a specific imputation strategy for them.\")\n",
    "        elif total_nan_rpm > 0 :\n",
    "             print(\"\\nObservation: 'reviews_per_month' has NaN values. The primary cause appears to be listings with 0 reviews.\")\n",
    "             print(\"Proposed Strategy for next step: For NaNs corresponding to 0 reviews, impute with 0. Investigate any other NaNs if present.\")\n",
    "        elif total_nan_rpm == 0:\n",
    "            print(\"\\nNo NaN values found in 'reviews_per_month'.\")\n",
    "        else:\n",
    "            print(\"\\nMixed observations about NaNs in 'reviews_per_month'. Review distribution carefully.\")\n",
    "else:\n",
    "    print(\"Error: 'reviews_per_month' or 'number_of_reviews' column not found in DataFrame.\")"
   ]
  },
  {
   "cell_type": "markdown",
   "metadata": {},
   "source": [
    "4. Analyze Missing last_review"
   ]
  },
  {
   "cell_type": "code",
   "execution_count": 27,
   "metadata": {},
   "outputs": [
    {
     "name": "stdout",
     "output_type": "stream",
     "text": [
      "\n",
      "--- Analyzing Missing 'last_review' ---\n",
      "Total NaN values in 'last_review': 10052\n",
      "NaN in 'last_review' when 'number_of_reviews' is 0: 10052\n",
      "\n",
      "Observation: All NaN values in 'last_review' occur where 'number_of_reviews' is 0.\n",
      "Interpretation: This is expected. If there are no reviews, there is no 'last_review' date.\n",
      "Proposed Strategy: These NaNs are informative. No direct imputation of the date is usually needed for these expected NaNs. If creating a 'days_since_last_review' feature, these would become NaN or a special large value.\n"
     ]
    }
   ],
   "source": [
    "print(\"\\n--- Analyzing Missing 'last_review' ---\")\n",
    "if 'last_review' in df.columns and 'number_of_reviews' in df.columns:\n",
    "    total_nan_last_review = df['last_review'].isnull().sum()\n",
    "    print(f\"Total NaN values in 'last_review': {total_nan_last_review}\")\n",
    "\n",
    "    # Assuming 'listings_with_zero_reviews' is still relevant from the previous cell's scope\n",
    "    # or re-calculate if running cells out of strict order:\n",
    "    # listings_with_zero_reviews = df[df['number_of_reviews'] == 0]\n",
    "    # print(f\"Number of listings with 0 reviews: {len(listings_with_zero_reviews)}\")\n",
    "\n",
    "\n",
    "    nan_last_review_when_zero_reviews = 0\n",
    "    # Re-filter to ensure 'listings_with_zero_reviews' is defined in this cell's scope if run independently\n",
    "    listings_with_zero_reviews_for_last_review_check = df[df['number_of_reviews'] == 0]\n",
    "    if not listings_with_zero_reviews_for_last_review_check.empty:\n",
    "        nan_last_review_when_zero_reviews = listings_with_zero_reviews_for_last_review_check['last_review'].isnull().sum()\n",
    "    print(f\"NaN in 'last_review' when 'number_of_reviews' is 0: {nan_last_review_when_zero_reviews}\")\n",
    "\n",
    "    if total_nan_last_review > 0 and total_nan_last_review == nan_last_review_when_zero_reviews and len(listings_with_zero_reviews_for_last_review_check) == total_nan_last_review:\n",
    "        print(\"\\nObservation: All NaN values in 'last_review' occur where 'number_of_reviews' is 0.\")\n",
    "        print(\"Interpretation: This is expected. If there are no reviews, there is no 'last_review' date.\")\n",
    "        print(\"Proposed Strategy: These NaNs are informative. No direct imputation of the date is usually needed for these expected NaNs. If creating a 'days_since_last_review' feature, these would become NaN or a special large value.\")\n",
    "    else:\n",
    "        nan_last_review_with_reviews = df[(df['last_review'].isnull()) & (df['number_of_reviews'] > 0)]\n",
    "        count_nan_last_review_with_reviews = len(nan_last_review_with_reviews)\n",
    "        print(f\"\\nNumber of listings with 'last_review' = NaN BUT 'number_of_reviews' > 0: {count_nan_last_review_with_reviews}\")\n",
    "        if count_nan_last_review_with_reviews > 0:\n",
    "            print(\"Observation: There are unexpected NaNs in 'last_review' for listings that DO have reviews. These require investigation.\")\n",
    "        elif total_nan_last_review > 0:\n",
    "            print(\"\\nObservation: 'last_review' has NaN values. The primary cause appears to be listings with 0 reviews.\")\n",
    "        elif total_nan_last_review == 0:\n",
    "            print(\"\\nNo NaN values found in 'last_review'.\")\n",
    "        else:\n",
    "            print(\"\\nMixed observations about NaNs in 'last_review'. Review distribution carefully.\")\n",
    "else:\n",
    "    print(\"Error: 'last_review' or 'number_of_reviews' column not found in DataFrame.\")"
   ]
  },
  {
   "cell_type": "markdown",
   "metadata": {},
   "source": [
    "5. Analyze Other Minor Missing Values (name, host_name)"
   ]
  },
  {
   "cell_type": "code",
   "execution_count": 28,
   "metadata": {},
   "outputs": [
    {
     "name": "stdout",
     "output_type": "stream",
     "text": [
      "\n",
      "--- Analyzing Other Minor Missing Values ('name', 'host_name') ---\n",
      "Missing values in 'name': 16 (0.03%)\n",
      "Missing values in 'host_name': 21 (0.04%)\n",
      "\n",
      "Observation: Columns 'name', 'host_name' have a very small number of missing values.\n",
      "Proposed Strategy for next steps: Impute with a placeholder like 'Unknown' or 'Not Specified'.\n"
     ]
    }
   ],
   "source": [
    "print(\"\\n--- Analyzing Other Minor Missing Values ('name', 'host_name') ---\")\n",
    "minor_missing_cols_info = []\n",
    "\n",
    "if 'name' in df.columns:\n",
    "    missing_name_count = df['name'].isnull().sum()\n",
    "    if missing_name_count > 0:\n",
    "        print(f\"Missing values in 'name': {missing_name_count} ({(missing_name_count/len(df)*100):.2f}%)\")\n",
    "        minor_missing_cols_info.append(\"'name'\")\n",
    "    else:\n",
    "        print(\"No missing values in 'name'.\")\n",
    "else:\n",
    "    print(\"Column 'name' not found.\")\n",
    "\n",
    "if 'host_name' in df.columns:\n",
    "    missing_host_name_count = df['host_name'].isnull().sum()\n",
    "    if missing_host_name_count > 0:\n",
    "        print(f\"Missing values in 'host_name': {missing_host_name_count} ({(missing_host_name_count/len(df)*100):.2f}%)\")\n",
    "        minor_missing_cols_info.append(\"'host_name'\")\n",
    "    else:\n",
    "        print(\"No missing values in 'host_name'.\")\n",
    "else:\n",
    "    print(\"Column 'host_name' not found.\")\n",
    "\n",
    "if minor_missing_cols_info:\n",
    "    print(f\"\\nObservation: Columns {', '.join(minor_missing_cols_info)} have a very small number of missing values.\")\n",
    "    print(\"Proposed Strategy for next steps: Impute with a placeholder like 'Unknown' or 'Not Specified'.\")"
   ]
  },
  {
   "cell_type": "markdown",
   "metadata": {},
   "source": [
    " 6. Impute Missing reviews_per_month"
   ]
  },
  {
   "cell_type": "code",
   "execution_count": 29,
   "metadata": {},
   "outputs": [
    {
     "name": "stdout",
     "output_type": "stream",
     "text": [
      "\n",
      "--- Imputing 'reviews_per_month' ---\n",
      "Missing 'reviews_per_month' before imputation: 10052\n",
      "Missing 'reviews_per_month' after imputation with 0: 0\n",
      "\n",
      "Sample of 'number_of_reviews' and 'reviews_per_month' after imputation:\n",
      "    number_of_reviews  reviews_per_month\n",
      "2                   0                0.0\n",
      "19                  0                0.0\n",
      "26                  0                0.0\n",
      "36                  0                0.0\n",
      "38                  0                0.0\n"
     ]
    }
   ],
   "source": [
    "print(\"\\n--- Imputing 'reviews_per_month' ---\")\n",
    "if 'reviews_per_month' in df.columns:\n",
    "    print(f\"Missing 'reviews_per_month' before imputation: {df['reviews_per_month'].isnull().sum()}\")\n",
    "    df['reviews_per_month'] = df['reviews_per_month'].fillna(0) # Recommended change\n",
    "    print(f\"Missing 'reviews_per_month' after imputation with 0: {df['reviews_per_month'].isnull().sum()}\")\n",
    "    print(\"\\nSample of 'number_of_reviews' and 'reviews_per_month' after imputation:\")\n",
    "    # Ensure listings_with_zero_reviews is defined or filter again if needed for this check\n",
    "    listings_with_zero_reviews = df[df['number_of_reviews'] == 0]\n",
    "    print(listings_with_zero_reviews[['number_of_reviews', 'reviews_per_month']].head())\n",
    "else:\n",
    "    print(\"Error: 'reviews_per_month' column not found for imputation.\")"
   ]
  },
  {
   "cell_type": "markdown",
   "metadata": {},
   "source": [
    "Impute Missing name"
   ]
  },
  {
   "cell_type": "code",
   "execution_count": 30,
   "metadata": {},
   "outputs": [
    {
     "name": "stdout",
     "output_type": "stream",
     "text": [
      "\n",
      "--- Imputing 'name' ---\n",
      "Missing 'name' before imputation: 16\n",
      "Missing 'name' after imputation with 'Unknown': 0\n"
     ]
    }
   ],
   "source": [
    "print(\"\\n--- Imputing 'name' ---\")\n",
    "if 'name' in df.columns:\n",
    "    print(f\"Missing 'name' before imputation: {df['name'].isnull().sum()}\")\n",
    "    df['name'] = df['name'].fillna('Unknown') # Recommended change\n",
    "    print(f\"Missing 'name' after imputation with 'Unknown': {df['name'].isnull().sum()}\")\n",
    "else:\n",
    "    print(\"Error: 'name' column not found for imputation.\")"
   ]
  },
  {
   "cell_type": "markdown",
   "metadata": {},
   "source": [
    "Impute Missing host_name"
   ]
  },
  {
   "cell_type": "code",
   "execution_count": 31,
   "metadata": {},
   "outputs": [
    {
     "name": "stdout",
     "output_type": "stream",
     "text": [
      "\n",
      "--- Imputing 'host_name' ---\n",
      "Missing 'host_name' before imputation: 21\n",
      "Missing 'host_name' after imputation with 'Unknown': 0\n"
     ]
    }
   ],
   "source": [
    "print(\"\\n--- Imputing 'host_name' ---\")\n",
    "if 'host_name' in df.columns:\n",
    "    print(f\"Missing 'host_name' before imputation: {df['host_name'].isnull().sum()}\")\n",
    "    df['host_name'] = df['host_name'].fillna('Unknown') # Recommended change\n",
    "    print(f\"Missing 'host_name' after imputation with 'Unknown': {df['host_name'].isnull().sum()}\")\n",
    "else:\n",
    "    print(\"Error: 'host_name' column not found for imputation.\")"
   ]
  },
  {
   "cell_type": "markdown",
   "metadata": {},
   "source": [
    "Final Check of Missing Values"
   ]
  },
  {
   "cell_type": "code",
   "execution_count": 32,
   "metadata": {},
   "outputs": [
    {
     "name": "stdout",
     "output_type": "stream",
     "text": [
      "\n",
      "--- Final Check of Missing Values After Imputations ---\n",
      "Remaining missing values:\n",
      "last_review    10052\n",
      "dtype: int64\n",
      "Note: 'last_review' will still show NaNs if listings had 0 reviews, which is expected and typically not imputed with a date.\n"
     ]
    }
   ],
   "source": [
    "print(\"\\n--- Final Check of Missing Values After Imputations ---\")\n",
    "if not df.empty:\n",
    "    final_missing_summary = df.isnull().sum()\n",
    "    missing_after_imputation = final_missing_summary[final_missing_summary > 0]\n",
    "    if missing_after_imputation.empty:\n",
    "        print(\"No more missing values in 'name', 'host_name', 'reviews_per_month'.\")\n",
    "    else:\n",
    "        print(\"Remaining missing values:\")\n",
    "        print(missing_after_imputation)\n",
    "        if 'last_review' in missing_after_imputation.index:\n",
    "            print(\"Note: 'last_review' will still show NaNs if listings had 0 reviews, which is expected and typically not imputed with a date.\")\n",
    "else:\n",
    "    print(\"DataFrame 'df' is not loaded. Cannot perform final check.\")"
   ]
  }
 ],
 "metadata": {
  "kernelspec": {
   "display_name": "Python 3",
   "language": "python",
   "name": "python3"
  },
  "language_info": {
   "codemirror_mode": {
    "name": "ipython",
    "version": 3
   },
   "file_extension": ".py",
   "mimetype": "text/x-python",
   "name": "python",
   "nbconvert_exporter": "python",
   "pygments_lexer": "ipython3",
   "version": "3.12.4"
  }
 },
 "nbformat": 4,
 "nbformat_minor": 2
}
